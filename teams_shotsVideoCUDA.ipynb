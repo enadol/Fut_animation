{
 "cells": [
  {
   "cell_type": "markdown",
   "id": "0379acc5",
   "metadata": {},
   "source": [
    "IMPORTING ALL NECESSARY PACKAGES. MOST OF THEM ARE ALREADY IN THE ANACONDA DISTRIBUTION"
   ]
  },
  {
   "cell_type": "code",
   "execution_count": 1,
   "id": "8ad26af3",
   "metadata": {},
   "outputs": [],
   "source": [
    "import asyncio\n",
    "import nest_asyncio\n",
    "import aiohttp\n",
    "from understat import Understat\n",
    "import requests\n",
    "import codecs\n",
    "from bs4 import BeautifulSoup as soup\n",
    "import json\n",
    "import pandas as pd\n",
    "import matplotlib.pyplot as plt\n",
    "import numpy as np\n",
    "import matplotlib as mpl\n",
    "import matplotlib.animation as animation"
   ]
  },
  {
   "cell_type": "code",
   "execution_count": 2,
   "id": "7529fd65-5242-4b7d-9669-93d4b91e02a3",
   "metadata": {},
   "outputs": [],
   "source": [
    "club=\"Hamburger SV\""
   ]
  },
  {
   "cell_type": "code",
   "execution_count": 3,
   "id": "2c58c5be",
   "metadata": {},
   "outputs": [],
   "source": [
    "with open('club_name.txt', 'w') as f:\n",
    "    f.write(club)\n",
    "    f.close"
   ]
  },
  {
   "cell_type": "code",
   "execution_count": 4,
   "id": "dc3fab7d-5984-4b6f-81b6-957eb7949895",
   "metadata": {},
   "outputs": [
    {
     "data": {
      "text/plain": [
       "'Hamburger SV'"
      ]
     },
     "execution_count": 4,
     "metadata": {},
     "output_type": "execute_result"
    }
   ],
   "source": [
    "team_for_foto=\"\"\n",
    "if club == \"RasenBallsport Leipzig\":\n",
    "    team_for_foto=\"RB Leipzig\"\n",
    "elif club == \"FC Cologne\":\n",
    "    team_for_foto=\"FC Köln\"\n",
    "elif club== \"Augsburg\":\n",
    "    team_for_foto=\"FC Augsburg\"\n",
    "elif club== \"Borussia M.Gladbach\":\n",
    "    team_for_foto=\"Borussia Mönchengladbach\"\n",
    "else:\n",
    "    team_for_foto=club\n",
    "team_for_foto"
   ]
  },
  {
   "cell_type": "code",
   "execution_count": 5,
   "id": "615c7ba6-846f-487c-adc9-16bcc2397405",
   "metadata": {},
   "outputs": [],
   "source": [
    "torneo=\"2025-2026\""
   ]
  },
  {
   "cell_type": "code",
   "execution_count": 6,
   "id": "b43f0f98",
   "metadata": {},
   "outputs": [],
   "source": [
    "foto=f'images/{team_for_foto}.png'"
   ]
  },
  {
   "cell_type": "code",
   "execution_count": 7,
   "id": "92185915",
   "metadata": {},
   "outputs": [
    {
     "name": "stdout",
     "output_type": "stream",
     "text": [
      "Hamburger SV\n",
      "[\n",
      "    {\n",
      "        \"id\": \"30232\",\n",
      "        \"isResult\": true,\n",
      "        \"side\": \"a\",\n",
      "        \"h\": {\n",
      "            \"id\": \"130\",\n",
      "            \"title\": \"Borussia M.Gladbach\",\n",
      "            \"short_title\": \"BMG\"\n",
      "        },\n",
      "        \"a\": {\n",
      "            \"id\": \"118\",\n",
      "            \"title\": \"Hamburger SV\",\n",
      "            \"short_title\": \"HAM\"\n",
      "        },\n",
      "        \"goals\": {\n",
      "            \"h\": \"0\",\n",
      "            \"a\": \"0\"\n",
      "        },\n",
      "        \"xG\": {\n",
      "            \"h\": \"1.01717\",\n",
      "            \"a\": \"0.285593\"\n",
      "        },\n",
      "        \"datetime\": \"2025-08-24 15:30:00\",\n",
      "        \"forecast\": {\n",
      "            \"w\": 0.5404799989788588,\n",
      "            \"d\": 0.3566531806397445,\n",
      "            \"l\": 0.10286682038101573\n",
      "        },\n",
      "        \"result\": \"d\"\n",
      "    },\n",
      "    {\n",
      "        \"id\": \"30233\",\n",
      "        \"isResult\": true,\n",
      "        \"side\": \"h\",\n",
      "        \"h\": {\n",
      "            \"id\": \"118\",\n",
      "            \"title\": \"Hamburger SV\",\n",
      "            \"short_title\": \"HAM\"\n",
      "        },\n",
      "        \"a\": {\n",
      "            \"id\": \"288\",\n",
      "            \"title\": \"St. Pauli\",\n",
      "            \"short_title\": \"SPA\"\n",
      "        },\n",
      "        \"goals\": {\n",
      "            \"h\": \"0\",\n",
      "            \"a\": \"2\"\n",
      "        },\n",
      "        \"xG\": {\n",
      "            \"h\": \"0.74111\",\n",
      "            \"a\": \"1.85404\"\n",
      "        },\n",
      "        \"datetime\": \"2025-08-29 18:30:00\",\n",
      "        \"forecast\": {\n",
      "            \"w\": 0.14322278966411067,\n",
      "            \"d\": 0.218280516221322,\n",
      "            \"l\": 0.638496692691745\n",
      "        },\n",
      "        \"result\": \"l\"\n",
      "    },\n",
      "    {\n",
      "        \"id\": \"30248\",\n",
      "        \"isResult\": true,\n",
      "        \"side\": \"a\",\n",
      "        \"h\": {\n",
      "            \"id\": \"117\",\n",
      "            \"title\": \"Bayern Munich\",\n",
      "            \"short_title\": \"BAY\"\n",
      "        },\n",
      "        \"a\": {\n",
      "            \"id\": \"118\",\n",
      "            \"title\": \"Hamburger SV\",\n",
      "            \"short_title\": \"HAM\"\n",
      "        },\n",
      "        \"goals\": {\n",
      "            \"h\": \"5\",\n",
      "            \"a\": \"0\"\n",
      "        },\n",
      "        \"xG\": {\n",
      "            \"h\": \"3.03718\",\n",
      "            \"a\": \"0.559174\"\n",
      "        },\n",
      "        \"datetime\": \"2025-09-13 16:30:00\",\n",
      "        \"forecast\": {\n",
      "            \"w\": 0.8607942046183079,\n",
      "            \"d\": 0.09792710784556972,\n",
      "            \"l\": 0.04127790838389632\n",
      "        },\n",
      "        \"result\": \"l\"\n",
      "    },\n",
      "    {\n",
      "        \"id\": \"30254\",\n",
      "        \"isResult\": true,\n",
      "        \"side\": \"h\",\n",
      "        \"h\": {\n",
      "            \"id\": \"118\",\n",
      "            \"title\": \"Hamburger SV\",\n",
      "            \"short_title\": \"HAM\"\n",
      "        },\n",
      "        \"a\": {\n",
      "            \"id\": \"280\",\n",
      "            \"title\": \"FC Heidenheim\",\n",
      "            \"short_title\": \"HEI\"\n",
      "        },\n",
      "        \"goals\": {\n",
      "            \"h\": \"2\",\n",
      "            \"a\": \"1\"\n",
      "        },\n",
      "        \"xG\": {\n",
      "            \"h\": \"3.32157\",\n",
      "            \"a\": \"2.63607\"\n",
      "        },\n",
      "        \"datetime\": \"2025-09-20 13:30:00\",\n",
      "        \"forecast\": {\n",
      "            \"w\": 0.5277275846883097,\n",
      "            \"d\": 0.16135459178974923,\n",
      "            \"l\": 0.31091539493131354\n",
      "        },\n",
      "        \"result\": \"w\"\n",
      "    },\n",
      "    {\n",
      "        \"id\": \"30268\",\n",
      "        \"isResult\": true,\n",
      "        \"side\": \"a\",\n",
      "        \"h\": {\n",
      "            \"id\": \"240\",\n",
      "            \"title\": \"Union Berlin\",\n",
      "            \"short_title\": \"UNI\"\n",
      "        },\n",
      "        \"a\": {\n",
      "            \"id\": \"118\",\n",
      "            \"title\": \"Hamburger SV\",\n",
      "            \"short_title\": \"HAM\"\n",
      "        },\n",
      "        \"goals\": {\n",
      "            \"h\": \"0\",\n",
      "            \"a\": \"0\"\n",
      "        },\n",
      "        \"xG\": {\n",
      "            \"h\": \"1.54274\",\n",
      "            \"a\": \"1.11274\"\n",
      "        },\n",
      "        \"datetime\": \"2025-09-28 17:30:00\",\n",
      "        \"forecast\": {\n",
      "            \"w\": 0.47221135797597524,\n",
      "            \"d\": 0.25366376747500013,\n",
      "            \"l\": 0.2741248744270036\n",
      "        },\n",
      "        \"result\": \"d\"\n",
      "    },\n",
      "    {\n",
      "        \"id\": \"30273\",\n",
      "        \"isResult\": true,\n",
      "        \"side\": \"h\",\n",
      "        \"h\": {\n",
      "            \"id\": \"118\",\n",
      "            \"title\": \"Hamburger SV\",\n",
      "            \"short_title\": \"HAM\"\n",
      "        },\n",
      "        \"a\": {\n",
      "            \"id\": \"125\",\n",
      "            \"title\": \"Mainz 05\",\n",
      "            \"short_title\": \"MAI\"\n",
      "        },\n",
      "        \"goals\": {\n",
      "            \"h\": \"4\",\n",
      "            \"a\": \"0\"\n",
      "        },\n",
      "        \"xG\": {\n",
      "            \"h\": \"1.65883\",\n",
      "            \"a\": \"0.591161\"\n",
      "        },\n",
      "        \"datetime\": \"2025-10-05 15:30:00\",\n",
      "        \"forecast\": {\n",
      "            \"w\": 0.6341133095049026,\n",
      "            \"d\": 0.23703576590543163,\n",
      "            \"l\": 0.12885092426807013\n",
      "        },\n",
      "        \"result\": \"w\"\n",
      "    }\n",
      "]\n"
     ]
    }
   ],
   "source": [
    "%run -i undesstatteams.py"
   ]
  },
  {
   "cell_type": "code",
   "execution_count": 8,
   "id": "3cd3771b-69e8-4ae2-853d-a02e218b70d6",
   "metadata": {},
   "outputs": [],
   "source": [
    "# Get csv from D://understatteams.py !!!!!\n",
    "df_understat=pd.read_csv(f'{club}_seasons_shots.csv')"
   ]
  },
  {
   "cell_type": "code",
   "execution_count": 9,
   "id": "a0cc49b4-b98e-4b9a-9dd5-7ed7161a1e7d",
   "metadata": {
    "scrolled": true
   },
   "outputs": [
    {
     "data": {
      "text/html": [
       "<div>\n",
       "<style scoped>\n",
       "    .dataframe tbody tr th:only-of-type {\n",
       "        vertical-align: middle;\n",
       "    }\n",
       "\n",
       "    .dataframe tbody tr th {\n",
       "        vertical-align: top;\n",
       "    }\n",
       "\n",
       "    .dataframe thead th {\n",
       "        text-align: right;\n",
       "    }\n",
       "</style>\n",
       "<table border=\"1\" class=\"dataframe\">\n",
       "  <thead>\n",
       "    <tr style=\"text-align: right;\">\n",
       "      <th></th>\n",
       "      <th>minute</th>\n",
       "      <th>X</th>\n",
       "      <th>Y</th>\n",
       "      <th>player</th>\n",
       "      <th>shotType</th>\n",
       "      <th>result</th>\n",
       "      <th>h_team</th>\n",
       "      <th>a_team</th>\n",
       "      <th>player_assisted</th>\n",
       "      <th>xG</th>\n",
       "    </tr>\n",
       "  </thead>\n",
       "  <tbody>\n",
       "    <tr>\n",
       "      <th>0</th>\n",
       "      <td>1</td>\n",
       "      <td>0.730</td>\n",
       "      <td>0.249</td>\n",
       "      <td>Giorgi Gocholeishvili</td>\n",
       "      <td>RightFoot</td>\n",
       "      <td>MissedShots</td>\n",
       "      <td>Borussia M.Gladbach</td>\n",
       "      <td>Hamburger SV</td>\n",
       "      <td>Emir Sahiti</td>\n",
       "      <td>0.013570</td>\n",
       "    </tr>\n",
       "    <tr>\n",
       "      <th>1</th>\n",
       "      <td>1</td>\n",
       "      <td>0.900</td>\n",
       "      <td>0.567</td>\n",
       "      <td>Ransford Königsdörffer</td>\n",
       "      <td>RightFoot</td>\n",
       "      <td>BlockedShot</td>\n",
       "      <td>Borussia M.Gladbach</td>\n",
       "      <td>Hamburger SV</td>\n",
       "      <td>NaN</td>\n",
       "      <td>0.091377</td>\n",
       "    </tr>\n",
       "    <tr>\n",
       "      <th>2</th>\n",
       "      <td>66</td>\n",
       "      <td>0.808</td>\n",
       "      <td>0.675</td>\n",
       "      <td>Alexander Røssing-Lelesiit</td>\n",
       "      <td>RightFoot</td>\n",
       "      <td>SavedShot</td>\n",
       "      <td>Borussia M.Gladbach</td>\n",
       "      <td>Hamburger SV</td>\n",
       "      <td>Miro Muheim</td>\n",
       "      <td>0.029599</td>\n",
       "    </tr>\n",
       "    <tr>\n",
       "      <th>3</th>\n",
       "      <td>74</td>\n",
       "      <td>0.784</td>\n",
       "      <td>0.735</td>\n",
       "      <td>Jean-Luc Dompe</td>\n",
       "      <td>RightFoot</td>\n",
       "      <td>MissedShots</td>\n",
       "      <td>Borussia M.Gladbach</td>\n",
       "      <td>Hamburger SV</td>\n",
       "      <td>Miro Muheim</td>\n",
       "      <td>0.016961</td>\n",
       "    </tr>\n",
       "    <tr>\n",
       "      <th>4</th>\n",
       "      <td>78</td>\n",
       "      <td>0.821</td>\n",
       "      <td>0.418</td>\n",
       "      <td>Rayan Philippe</td>\n",
       "      <td>LeftFoot</td>\n",
       "      <td>BlockedShot</td>\n",
       "      <td>Borussia M.Gladbach</td>\n",
       "      <td>Hamburger SV</td>\n",
       "      <td>Giorgi Gocholeishvili</td>\n",
       "      <td>0.059872</td>\n",
       "    </tr>\n",
       "  </tbody>\n",
       "</table>\n",
       "</div>"
      ],
      "text/plain": [
       "   minute      X      Y                      player   shotType       result  \\\n",
       "0       1  0.730  0.249       Giorgi Gocholeishvili  RightFoot  MissedShots   \n",
       "1       1  0.900  0.567      Ransford Königsdörffer  RightFoot  BlockedShot   \n",
       "2      66  0.808  0.675  Alexander Røssing-Lelesiit  RightFoot    SavedShot   \n",
       "3      74  0.784  0.735              Jean-Luc Dompe  RightFoot  MissedShots   \n",
       "4      78  0.821  0.418              Rayan Philippe   LeftFoot  BlockedShot   \n",
       "\n",
       "                h_team        a_team        player_assisted        xG  \n",
       "0  Borussia M.Gladbach  Hamburger SV            Emir Sahiti  0.013570  \n",
       "1  Borussia M.Gladbach  Hamburger SV                    NaN  0.091377  \n",
       "2  Borussia M.Gladbach  Hamburger SV            Miro Muheim  0.029599  \n",
       "3  Borussia M.Gladbach  Hamburger SV            Miro Muheim  0.016961  \n",
       "4  Borussia M.Gladbach  Hamburger SV  Giorgi Gocholeishvili  0.059872  "
      ]
     },
     "execution_count": 9,
     "metadata": {},
     "output_type": "execute_result"
    }
   ],
   "source": [
    "df_understat.head()"
   ]
  },
  {
   "cell_type": "code",
   "execution_count": 10,
   "id": "484c44f3",
   "metadata": {
    "scrolled": true
   },
   "outputs": [
    {
     "data": {
      "text/plain": [
       "0"
      ]
     },
     "execution_count": 10,
     "metadata": {},
     "output_type": "execute_result"
    }
   ],
   "source": [
    "own_goals_total=len(df_understat[df_understat['result']=='OwnGoal'])\n",
    "own_goals_total"
   ]
  },
  {
   "cell_type": "code",
   "execution_count": 11,
   "id": "ff36cc9d-7298-4213-836a-a24468753f5b",
   "metadata": {},
   "outputs": [
    {
     "data": {
      "text/html": [
       "<div>\n",
       "<style scoped>\n",
       "    .dataframe tbody tr th:only-of-type {\n",
       "        vertical-align: middle;\n",
       "    }\n",
       "\n",
       "    .dataframe tbody tr th {\n",
       "        vertical-align: top;\n",
       "    }\n",
       "\n",
       "    .dataframe thead th {\n",
       "        text-align: right;\n",
       "    }\n",
       "</style>\n",
       "<table border=\"1\" class=\"dataframe\">\n",
       "  <thead>\n",
       "    <tr style=\"text-align: right;\">\n",
       "      <th></th>\n",
       "      <th>minute</th>\n",
       "      <th>X</th>\n",
       "      <th>Y</th>\n",
       "      <th>player</th>\n",
       "      <th>shotType</th>\n",
       "      <th>result</th>\n",
       "      <th>h_team</th>\n",
       "      <th>a_team</th>\n",
       "      <th>player_assisted</th>\n",
       "      <th>xG</th>\n",
       "    </tr>\n",
       "  </thead>\n",
       "  <tbody>\n",
       "  </tbody>\n",
       "</table>\n",
       "</div>"
      ],
      "text/plain": [
       "Empty DataFrame\n",
       "Columns: [minute, X, Y, player, shotType, result, h_team, a_team, player_assisted, xG]\n",
       "Index: []"
      ]
     },
     "execution_count": 11,
     "metadata": {},
     "output_type": "execute_result"
    }
   ],
   "source": [
    "own_goals=df_understat[df_understat['result']=='OwnGoal']\n",
    "own_goals['xG']=0.5\n",
    "own_goals"
   ]
  },
  {
   "cell_type": "code",
   "execution_count": 12,
   "id": "9d0b6f1e-b303-479f-ab08-766241049505",
   "metadata": {
    "scrolled": true
   },
   "outputs": [],
   "source": [
    "async def main():\n",
    "    async with aiohttp.ClientSession() as session:\n",
    "        understat = Understat(session)\n",
    "        players = await understat.get_league_players(\n",
    "            \"bundesliga\",\n",
    "            2025,\n",
    "            team_title=club\n",
    "        )\n",
    "        squad=json.dumps(players, indent=4, ensure_ascii=False)\n",
    "    with codecs.open(f'{club}_squad.json', \"w\", \"utf-8\") as jsonfile:\n",
    "        jsonfile.write(squad)\n",
    "        #json.dumps(jamal_json, indent=4)\n",
    "        jsonfile.close() \n",
    "\n",
    "nest_asyncio.apply()\n",
    "loop = asyncio.get_event_loop()\n",
    "loop.run_until_complete(main())\n",
    "\n",
    "squad_df=pd.read_json(f'{club}_squad.json')"
   ]
  },
  {
   "cell_type": "code",
   "execution_count": 13,
   "id": "b3c365a7-f0df-4a33-9f72-bd663fd6c268",
   "metadata": {},
   "outputs": [
    {
     "data": {
      "text/plain": [
       "array(['Rayan Philippe', 'Jean-Luc Dompe', 'Albert Sambi Lokonga',\n",
       "       'Luka Vuskovic', 'Jordan Torunarigha', 'Yussuf Poulsen',\n",
       "       'Daniel Heuer Fernandes', 'Jonas Meffert', 'Robert Glatzel',\n",
       "       'Warmed Omari', 'William Mikelbrencis', 'Guilherme Ramos',\n",
       "       'Fábio Vieira', 'Nicolai Remberg', 'Daniel Elfadli',\n",
       "       'Giorgi Gocholeishvili', 'Miro Muheim', 'Nicolás Capaldo',\n",
       "       'Emir Sahiti', 'Ransford Königsdörffer',\n",
       "       'Alexander Røssing-Lelesiit', 'Aboubaka Soumahoro', 'Otto Stange',\n",
       "       'Fabio Baldé'], dtype=object)"
      ]
     },
     "execution_count": 13,
     "metadata": {},
     "output_type": "execute_result"
    }
   ],
   "source": [
    "squad=squad_df['player_name'].unique()\n",
    "squad"
   ]
  },
  {
   "cell_type": "code",
   "execution_count": 14,
   "id": "1e8fabd2-26d3-447b-a0bc-9243d5cb7a34",
   "metadata": {
    "scrolled": true
   },
   "outputs": [
    {
     "data": {
      "text/plain": [
       "False"
      ]
     },
     "execution_count": 14,
     "metadata": {},
     "output_type": "execute_result"
    }
   ],
   "source": [
    "\"Paul Nebel\" in squad"
   ]
  },
  {
   "cell_type": "code",
   "execution_count": 15,
   "id": "8f69674f-d67b-4f74-9e79-5b20e821548c",
   "metadata": {},
   "outputs": [
    {
     "data": {
      "text/plain": [
       "0"
      ]
     },
     "execution_count": 15,
     "metadata": {},
     "output_type": "execute_result"
    }
   ],
   "source": [
    "own_goals_len=len(own_goals[~own_goals['player'].isin(squad)])\n",
    "own_goals_len"
   ]
  },
  {
   "cell_type": "code",
   "execution_count": 16,
   "id": "40c24147-b377-4aff-a7a7-56e9b4a620a4",
   "metadata": {},
   "outputs": [
    {
     "data": {
      "text/html": [
       "<div>\n",
       "<style scoped>\n",
       "    .dataframe tbody tr th:only-of-type {\n",
       "        vertical-align: middle;\n",
       "    }\n",
       "\n",
       "    .dataframe tbody tr th {\n",
       "        vertical-align: top;\n",
       "    }\n",
       "\n",
       "    .dataframe thead th {\n",
       "        text-align: right;\n",
       "    }\n",
       "</style>\n",
       "<table border=\"1\" class=\"dataframe\">\n",
       "  <thead>\n",
       "    <tr style=\"text-align: right;\">\n",
       "      <th></th>\n",
       "      <th>minute</th>\n",
       "      <th>X</th>\n",
       "      <th>Y</th>\n",
       "      <th>player</th>\n",
       "      <th>shotType</th>\n",
       "      <th>result</th>\n",
       "      <th>h_team</th>\n",
       "      <th>a_team</th>\n",
       "      <th>player_assisted</th>\n",
       "      <th>xG</th>\n",
       "    </tr>\n",
       "  </thead>\n",
       "  <tbody>\n",
       "  </tbody>\n",
       "</table>\n",
       "</div>"
      ],
      "text/plain": [
       "Empty DataFrame\n",
       "Columns: [minute, X, Y, player, shotType, result, h_team, a_team, player_assisted, xG]\n",
       "Index: []"
      ]
     },
     "execution_count": 16,
     "metadata": {},
     "output_type": "execute_result"
    }
   ],
   "source": [
    "ogf=own_goals[~own_goals['player'].isin(squad)]\n",
    "ogf"
   ]
  },
  {
   "cell_type": "code",
   "execution_count": 17,
   "id": "11457253-98c1-4a75-8dd1-1780f08e5e44",
   "metadata": {
    "scrolled": true
   },
   "outputs": [
    {
     "data": {
      "text/plain": [
       "0"
      ]
     },
     "execution_count": 17,
     "metadata": {},
     "output_type": "execute_result"
    }
   ],
   "source": [
    "own_goals_for=0\n",
    "for player in own_goals['player']:\n",
    "    if player not in squad:\n",
    "        own_goals_for+=1\n",
    "own_goals_for"
   ]
  },
  {
   "cell_type": "code",
   "execution_count": 18,
   "id": "4e66a111",
   "metadata": {},
   "outputs": [],
   "source": [
    "# THE X AND Y LABELS ARE SCALED BETWEEN 0 and 1. SINCE WE WILL BE USING OPTA AXES WHICH GO FROM 100 to 100, WE NEED TO\n",
    "# SCALE BOTH THESE UPTO 100\n",
    "\n",
    "df_understat['X'] = df_understat['X'].apply(lambda x:x*100)\n",
    "df_understat['Y'] = df_understat['Y'].apply(lambda x:x*100)\n",
    "\n",
    "#df_understat['result'].unique()"
   ]
  },
  {
   "cell_type": "code",
   "execution_count": 19,
   "id": "a0a4cef6-6a76-4735-8a8a-e6335acc9409",
   "metadata": {},
   "outputs": [
    {
     "data": {
      "text/html": [
       "<div>\n",
       "<style scoped>\n",
       "    .dataframe tbody tr th:only-of-type {\n",
       "        vertical-align: middle;\n",
       "    }\n",
       "\n",
       "    .dataframe tbody tr th {\n",
       "        vertical-align: top;\n",
       "    }\n",
       "\n",
       "    .dataframe thead th {\n",
       "        text-align: right;\n",
       "    }\n",
       "</style>\n",
       "<table border=\"1\" class=\"dataframe\">\n",
       "  <thead>\n",
       "    <tr style=\"text-align: right;\">\n",
       "      <th></th>\n",
       "      <th>minute</th>\n",
       "      <th>X</th>\n",
       "      <th>Y</th>\n",
       "      <th>player</th>\n",
       "      <th>shotType</th>\n",
       "      <th>result</th>\n",
       "      <th>h_team</th>\n",
       "      <th>a_team</th>\n",
       "      <th>player_assisted</th>\n",
       "      <th>xG</th>\n",
       "    </tr>\n",
       "  </thead>\n",
       "  <tbody>\n",
       "  </tbody>\n",
       "</table>\n",
       "</div>"
      ],
      "text/plain": [
       "Empty DataFrame\n",
       "Columns: [minute, X, Y, player, shotType, result, h_team, a_team, player_assisted, xG]\n",
       "Index: []"
      ]
     },
     "execution_count": 19,
     "metadata": {},
     "output_type": "execute_result"
    }
   ],
   "source": [
    "df_understat[df_understat['result']=='OwnGoal']"
   ]
  },
  {
   "cell_type": "code",
   "execution_count": 20,
   "id": "07880ca2",
   "metadata": {},
   "outputs": [],
   "source": [
    "#pip install mplsoccer\n",
    "#pip install highlight-text"
   ]
  },
  {
   "cell_type": "code",
   "execution_count": 21,
   "id": "04ecb57e",
   "metadata": {
    "scrolled": true
   },
   "outputs": [],
   "source": [
    "from highlight_text import ax_text,fig_text\n",
    "from mplsoccer import (VerticalPitch, Pitch)"
   ]
  },
  {
   "cell_type": "markdown",
   "id": "92166f6c",
   "metadata": {},
   "source": [
    "WE WILL CHANGE SOME OF THE BASIC PARAMETERS USING THE rcParams method OF MPL"
   ]
  },
  {
   "cell_type": "code",
   "execution_count": 22,
   "id": "161502eb",
   "metadata": {},
   "outputs": [],
   "source": [
    "background = '#D6DBD9'\n",
    "text_color = 'black'\n",
    "mpl.rcParams['xtick.color']=text_color\n",
    "mpl.rcParams['ytick.color']=text_color\n",
    "mpl.rcParams['text.color']=text_color\n",
    "mpl.rcParams['font.family']='sans-serif'\n",
    "mpl.rcParams['font.sans-serif']='Franklin Gothic Medium Cond'\n",
    "mpl.rcParams['legend.fontsize'] = 12\n"
   ]
  },
  {
   "cell_type": "code",
   "execution_count": 23,
   "id": "72ca3f5d",
   "metadata": {},
   "outputs": [],
   "source": [
    "#mpl.font_manager.FontManager.get_font_names(mpl)"
   ]
  },
  {
   "cell_type": "code",
   "execution_count": 24,
   "id": "a0f37d44",
   "metadata": {},
   "outputs": [],
   "source": [
    "import numpy as np\n",
    "from PIL import Image\n",
    "from urllib.request import urlopen\n",
    "import os\n",
    "from mplsoccer import add_image"
   ]
  },
  {
   "cell_type": "code",
   "execution_count": 25,
   "id": "c31e4c55-50f1-416b-a241-7c7ba8522133",
   "metadata": {
    "scrolled": true
   },
   "outputs": [
    {
     "data": {
      "image/png": "[encoded data removed]",
      "text/plain": [
       "<Figure size 1200x1000 with 2 Axes>"
      ]
     },
     "metadata": {},
     "output_type": "display_data"
    }
   ],
   "source": [
    "# SETTING UP THE AXES\n",
    "#fig, ax = plt.subplots(figsize=(10,12))\n",
    "#ax.axis('off')\n",
    "#fig.set_facecolor(background)\n",
    "\n",
    "#SETTING UP THE MPL AXIS FOR THE FIRST TEAM\n",
    "pitch = pitch = VerticalPitch(pad_bottom=0.5,  # pitch extends slightly below halfway line \n",
    "    half=True,  # half of a pitch\n",
    "    goal_type='box',\n",
    "    goal_alpha=0.8, \n",
    "    pitch_type='opta',\n",
    "    pitch_color='#aabb97',\n",
    "    stripe=True,\n",
    "    stripe_color='#c2d59d',\n",
    "    line_color='white')  \n",
    "\n",
    "fig, ax = pitch.draw(figsize=(12, 10))\n",
    "\n",
    "#PLOTTING HTEAM\n",
    "#df_fil = df_understat.loc[df_understat['HomeAway']=='h']\n",
    "df_fil = df_understat\n",
    "#df_hOG = df_fil[df_fil['HomeAway']=='a']\n",
    "#df_fil = df_a\n",
    "#df_hOG = df_fil[df_fil['HomeAway']=='h']\n",
    "df_h1H = df_fil[df_fil['minute']<=45]\n",
    "df_h2H = df_fil[df_fil['minute']>45]\n",
    "\n",
    "#PLOTTING SHOTS TEAM 1 PER TYPE AND HALF.LABELS APPEAR ONLY IF VARIABLE IS FILLED\n",
    "\n",
    "\n",
    "if \"ShotOnPost\" in iter(df_h1H['result']):\n",
    "    pitch.scatter(df_h1H[df_h1H['result']=='ShotOnPost']['X'],df_h1H[df_h1H['result']=='ShotOnPost']['Y'], \n",
    "              s=np.sqrt(df_h1H[df_h1H['result']=='ShotOnPost']['xG'])*150, marker='o', alpha=0.6,\n",
    "              edgecolors='black', facecolor='white', ax=ax, label=\"SHOT ON POST 1H\")\n",
    "\n",
    "if \"ShotOnPost\" in iter(df_h2H['result']):\n",
    "    pitch.scatter(df_h2H[df_h2H['result']=='ShotOnPost']['X'],df_h2H[df_h2H['result']=='ShotOnPost']['Y'], \n",
    "              s=np.sqrt(df_h2H[df_h2H['result']=='ShotOnPost']['xG'])*150, marker='o', alpha=0.6,\n",
    "              edgecolors='black', facecolor='white', ax=ax, label=\"SHOT ON POST 2H\")\n",
    "    \n",
    "if \"BlockedShot\" in iter(df_h1H['result']):\n",
    "    pitch.scatter(df_h1H[df_h1H['result']=='BlockedShot']['X'],df_h1H[df_h1H['result']=='BlockedShot']['Y'], \n",
    "              s=np.sqrt(df_h1H[df_h1H['result']=='BlockedShot']['xG'])*150, marker='o', alpha=0.6,\n",
    "              edgecolors='black', facecolor='purple', ax=ax, label=\"BLOCKED SHOT 1H\")\n",
    "\n",
    "if \"BlockedShot\" in iter(df_h2H['result']):\n",
    "    pitch.scatter(df_h2H[df_h2H['result']=='BlockedShot']['X'],df_h2H[df_h2H['result']=='BlockedShot']['Y'], \n",
    "              s=np.sqrt(df_h2H[df_h2H['result']=='BlockedShot']['xG'])*150, marker='o', alpha=0.6,\n",
    "              edgecolors='black', facecolor='yellow', ax=ax, label=\"BLOCKED SHOT 2H\")\n",
    "\n",
    "if \"MissedShots\" in iter(df_h1H['result']):\n",
    "    pitch.scatter(df_h1H[df_h1H['result']=='MissedShots']['X'],df_h1H[df_h1H['result']=='MissedShots']['Y'], \n",
    "              s=np.sqrt(df_h1H[df_h1H['result']=='MissedShots']['xG'])*150, marker='d', alpha=0.6,\n",
    "              edgecolors='black', facecolor='purple', ax=ax, label=\"MISSED SHOT 1H\")\n",
    "\n",
    "if \"MissedShots\" in iter(df_h2H['result']):\n",
    "    pitch.scatter(df_h2H[df_h2H['result']=='MissedShots']['X'],df_h2H[df_h2H['result']=='MissedShots']['Y'], \n",
    "              s=np.sqrt(df_h2H[df_h2H['result']=='MissedShots']['xG'])*150, marker='d', alpha=0.6,\n",
    "              edgecolors='black', facecolor='yellow', ax=ax, label=\"MISSED SHOT 2H\")\n",
    "    \n",
    "if \"SavedShot\" in iter(df_h1H['result']):\n",
    "    pitch.scatter(df_h1H[df_h1H['result']=='SavedShot']['X'],df_h1H[df_h1H['result']=='SavedShot']['Y'], \n",
    "              s=np.sqrt(df_h1H[df_h1H['result']=='SavedShot']['xG'])*150, marker='h', alpha=0.6,\n",
    "              edgecolors='black', facecolor='purple', ax=ax, label=\"SAVED SHOT 1H\")\n",
    "\n",
    "if \"SavedShot\" in iter(df_h2H['result']):\n",
    "    pitch.scatter(df_h2H[df_h2H['result']=='SavedShot']['X'],df_h2H[df_h2H['result']=='SavedShot']['Y'], \n",
    "              s=np.sqrt(df_h2H[df_h2H['result']=='SavedShot']['xG'])*150, marker='h', alpha=0.6,\n",
    "              edgecolors='black', facecolor='yellow', ax=ax, label=\"SAVED SHOT 2H\")\n",
    "    \n",
    "\n",
    "\n",
    "#NOW PLOTTING THE GOALS\n",
    "if \"Goal\" in iter(df_fil['result']):\n",
    "    pitch.scatter(df_fil[df_fil['result']=='Goal']['X'],df_fil[df_fil['result']=='Goal']['Y'], \n",
    "              s=np.sqrt(df_fil[df_fil['result']=='Goal']['xG'])*150, marker='football', alpha=0.9,\n",
    "              edgecolors='black', facecolor='red', ax=ax, label=\"GOAL\")\n",
    "    hull=pitch.convexhull(df_fil[df_fil['result']=='Goal']['X'], df_fil[df_fil['result']=='Goal']['Y'])\n",
    "    pitch.polygon(hull, ax=ax, edgecolor='cornflowerblue', facecolor='cornflowerblue', alpha=0.3)\n",
    "\n",
    "if \"OwnGoal\" in iter(ogf['result']):\n",
    "    pitch.scatter(100-ogf[ogf['result']=='OwnGoal']['X']*100,100-ogf[df_fil['result']=='OwnGoal']['Y']*100, \n",
    "              s=np.sqrt(ogf[ogf['result']=='OwnGoal']['xG'])*150, marker='x', alpha=0.9,\n",
    "              edgecolors='red', facecolor='red', ax=ax, label=\"OWN GOAL FOR\")\n",
    "    #hull=pitch.convexhull(df_fil[df_fil['result']=='OwnGoal']['X'], df_fil[df_fil['result']=='OwnGoal']['Y'])\n",
    "    #pitch.polygon(hull, ax=ax, edgecolor='cornflowerblue', facecolor='cornflowerblue', alpha=0.3)\n",
    "#OWNGOALS\n",
    "#if len(df_hOG) >0:\n",
    " #   pitch.scatter(df_hOG[df_hOG['result']=='Goal']['X'],df_hOG[df_hOG['result']=='Goal']['Y'], \n",
    "  #            s=np.sqrt(df_hOG[df_hOG['result']=='Goal']['xG'])*150, marker='x', alpha=0.9,\n",
    "   #           edgecolors='black', facecolor='orange', ax=ax_opta1, label='AUTOGOL DEL RIVAL')\n",
    "\n",
    "\n",
    "# ADDING THE LEGEND\n",
    "ax.legend(loc='lower center', ncol=3)#.get_texts()[0].set_color(\"black\")\n",
    "\n",
    "ax.text(25,64,'GOALS : '+str(len(df_fil[df_fil['result']=='Goal'])+ int(own_goals_for)), weight='bold', size=15)\n",
    "ax.text(25,62.5,f\"xG : {round(sum(df_fil['xG']),2)}\", weight='bold', size=15)\n",
    "ax.text(25,61,'SHOTS : '+str(len(df_fil)), weight='bold', size=15)\n",
    "ax.text(75, 61, f'{team_for_foto}\\nALL SHOTS\\nSEASON {torneo}', weight='bold', size=20)\n",
    "\n",
    "# Use a direct file path instead of urlopen for local files\n",
    "image_path = foto\n",
    "\n",
    "# Check if the file exists before trying to open it\n",
    "if os.path.exists(image_path):\n",
    "    image = Image.open(image_path)\n",
    "    ax_image = add_image(image, fig, left=0.07, bottom=0.245, width=0.2, height=0.2)\n",
    "else:\n",
    "    print(f\"Warning: Image file not found at {image_path}\")\n",
    "    # Optionally continue without the image\n",
    "\n",
    "\n",
    "pitch.draw(ax=ax)\n",
    "\n",
    "# ADDING A FOOTER\n",
    "ax.text(97,57,'Dataviz: Enrique Adolfo López Magallón\\nData: Understat.com.')# Comparison with <forwards>'+\n",
    " #       ' with more than '+str(no_90s)+' 90s('+str(no_90s*90)+' minutes).',\n",
    "  #      size=12, highlight_textprops=[{'color':'#EF8804'}], weight = 'bold')\n",
    "\n",
    "\n",
    "#EXPORT TO IMG\n",
    "\n",
    "plt.savefig(f'{club}_shots.png',dpi=300,facecolor=background)"
   ]
  },
  {
   "cell_type": "code",
   "execution_count": 26,
   "id": "dac7c893-fe47-4f53-a0d9-72085e8534f7",
   "metadata": {
    "scrolled": true
   },
   "outputs": [],
   "source": [
    "shots_grouped=df_fil.groupby('minute').size()"
   ]
  },
  {
   "cell_type": "code",
   "execution_count": 27,
   "id": "e0ed3013-7b9a-4441-b3dc-5f755e991113",
   "metadata": {},
   "outputs": [
    {
     "data": {
      "text/plain": [
       "minute\n",
       "1     2\n",
       "2     1\n",
       "3     2\n",
       "5     3\n",
       "9     1\n",
       "12    1\n",
       "15    1\n",
       "16    2\n",
       "17    2\n",
       "19    2\n",
       "24    1\n",
       "26    3\n",
       "27    1\n",
       "28    3\n",
       "30    1\n",
       "33    1\n",
       "35    2\n",
       "40    2\n",
       "41    2\n",
       "44    1\n",
       "45    1\n",
       "46    1\n",
       "48    1\n",
       "49    1\n",
       "50    1\n",
       "51    4\n",
       "52    3\n",
       "54    1\n",
       "57    1\n",
       "58    1\n",
       "60    2\n",
       "61    1\n",
       "62    1\n",
       "65    1\n",
       "66    2\n",
       "68    1\n",
       "71    4\n",
       "74    1\n",
       "76    1\n",
       "78    2\n",
       "81    1\n",
       "84    3\n",
       "88    1\n",
       "91    1\n",
       "93    1\n",
       "94    1\n",
       "96    1\n",
       "dtype: int64"
      ]
     },
     "execution_count": 27,
     "metadata": {},
     "output_type": "execute_result"
    }
   ],
   "source": [
    "shots_grouped\n"
   ]
  },
  {
   "cell_type": "code",
   "execution_count": 28,
   "id": "cf72bf4b-cb24-48d1-94d8-1e5b54634980",
   "metadata": {},
   "outputs": [
    {
     "data": {
      "text/plain": [
       "74"
      ]
     },
     "execution_count": 28,
     "metadata": {},
     "output_type": "execute_result"
    }
   ],
   "source": [
    "shots_grouped.sum()"
   ]
  },
  {
   "cell_type": "code",
   "execution_count": 29,
   "id": "5fbf9ddf-de8c-4d72-a624-da9ef9290a09",
   "metadata": {},
   "outputs": [],
   "source": [
    "from matplotlib.animation import FFMpegWriter"
   ]
  },
  {
   "cell_type": "code",
   "execution_count": 30,
   "id": "888fffe9-b84a-4847-a0a0-a2848394e4f3",
   "metadata": {},
   "outputs": [
    {
     "name": "stdout",
     "output_type": "stream",
     "text": [
      "Using CUDA acceleration for rendering\n"
     ]
    }
   ],
   "source": [
    "import subprocess\n",
    "import json\n",
    "  \n",
    "def is_cuda_available_for_ffmpeg():\n",
    "    try:\n",
    "        # Check if FFmpeg is installed with CUDA support\n",
    "        result = subprocess.run(\n",
    "            ['ffmpeg', '-hide_banner', '-encoders'],\n",
    "            capture_output=True, text=True, check=True\n",
    "           )\n",
    "        return 'h264_qsv' in result.stdout\n",
    "    except Exception:\n",
    "        return False\n",
    "   \n",
    "   # Use CUDA acceleration if available, otherwise fall back to CPU\n",
    "if is_cuda_available_for_ffmpeg():\n",
    "    codec = 'h264_qsv'\n",
    "    extra_args = ['-hwaccel', 'cuda', '-hwaccel_output_format', 'cuda', '-preset', 'fast']\n",
    "    print(\"Using CUDA acceleration for rendering\")\n",
    "else:\n",
    "    codec = 'h264'\n",
    "    extra_args = ['-preset', 'medium']\n",
    "    print(\"CUDA acceleration not available, using CPU rendering\")\n",
    "   "
   ]
  },
  {
   "cell_type": "code",
   "execution_count": 31,
   "id": "88de1b71-60da-4a89-8ed5-9fccaf561e6e",
   "metadata": {},
   "outputs": [
    {
     "name": "stdout",
     "output_type": "stream",
     "text": [
      "Creating animation with 1100 frames\n"
     ]
    },
    {
     "data": {
      "image/png": "[encoded data removed]",
      "text/plain": [
       "<Figure size 1200x800 with 1 Axes>"
      ]
     },
     "metadata": {},
     "output_type": "display_data"
    },
    {
     "name": "stdout",
     "output_type": "stream",
     "text": [
      "Available animation writers: ['pillow', 'ffmpeg', 'ffmpeg_file', 'html']\n",
      "Saving animation...\n",
      "Animation saved successfully!\n"
     ]
    }
   ],
   "source": [
    "def update(frame):\n",
    "    ax.clear()\n",
    "    df_fil = df_understat\n",
    "    # Calculate which minute we're showing and how far along the growth we are\n",
    "    current_minute = int(frame) + 1\n",
    "    growth_fraction = frame - int(frame)  # Decimal part represents growth progress\n",
    "    \n",
    "    \n",
    "    # Count shots per minute for all data\n",
    "    shot_counts = df_fil.groupby('minute').size()\n",
    "    minutes = list(range(0, int(max_minute) + 1))\n",
    "    \n",
    "    # Create arrays for the current state of the animation\n",
    "    current_counts = []\n",
    "    for minute in minutes:\n",
    "        if minute < current_minute:\n",
    "            # Previous minutes are fully grown\n",
    "            count = shot_counts.get(minute, 0)\n",
    "        elif minute == current_minute:\n",
    "            # Current minute is growing\n",
    "            count = shot_counts.get(minute, 0) * growth_fraction\n",
    "        else:\n",
    "            # Future minutes are not shown yet\n",
    "            count = 0\n",
    "        current_counts.append(count)\n",
    "\n",
    "\n",
    "\n",
    "    #if minute == last_frame:\n",
    "     #   current_display_minute = max_minute  # Show the final minute when at last frame\n",
    "    #else:\n",
    "\n",
    "    \n",
    "    # Calculate total shots, ensuring all shots are counted at the last frame\n",
    "        if minute == int(max_minute) + 1:\n",
    "            total_shots = sum(shot_counts.get(min, 0) for min in range(0, max_minute + 1))\n",
    "        else:\n",
    "            total_shots = sum(shot_counts.get(min, 0) for min in range(0, current_minute))\n",
    "            if growth_fraction > 0:\n",
    "                total_shots += shot_counts.get(current_minute, 0) * growth_fraction\n",
    "    \n",
    "    # Create stem plot with magenta lines and orange dots\n",
    "    markerline, stemlines, baseline = ax.stem(minutes, current_counts, linefmt='m-', markerfmt='o', basefmt='k-')\n",
    "    plt.setp(markerline, markersize=8, color='orange')  # Orange dots\n",
    "    plt.setp(stemlines, linewidth=2, color='magenta')   # Magenta lines\n",
    "    \n",
    "    # Set axis limits and labels\n",
    "    ax.set_xlim(0, max_minute + 1)\n",
    "    ax.set_ylim(0, shot_counts.max() + 1)\n",
    "    ax.set_xlabel('Minutes', weight='bold', size=12)\n",
    "    ax.set_ylabel('Number of Shots', weight='bold', size=12)\n",
    "    # Add title and information\n",
    "    current_display_minute = current_minute if growth_fraction == 0 else f\"{current_minute-1}→{current_minute}\"\n",
    "    #   return current_display_minute\n",
    "    ax.set_title(f'{club} Shot Count per Minute (Minute: {current_display_minute})', weight='bold', size=15)\n",
    "    \n",
    " #   total_shots = sum(shot_counts.get(min, 0) for min in range(0, current_minute))\n",
    "  #  if growth_fraction > 0:\n",
    "   #     total_shots += shot_counts.get(current_minute, 0) * growth_fraction\n",
    "    ax.text(max_minute * 0.7, ax.get_ylim()[1] * 0.9, f'Total Shots: {int(total_shots)}', weight='bold', size=15)\n",
    "    ax.text(max_minute * 0.7, ax.get_ylim()[1] * 0.1, 'Copyright: Enrique Adolfo López Magallón\\nData: Understat.com.')\n",
    "    \n",
    "    # Ensure proper layout\n",
    "    fig.tight_layout()\n",
    "    \n",
    "    # Force drawing update\n",
    "    fig.canvas.draw()\n",
    "    \n",
    "    return fig, ax\n",
    "\n",
    "# Create figure and axis\n",
    "fig, ax = plt.subplots(figsize=(12, 8))\n",
    "\n",
    "# Create animation with frames for growing each minute\n",
    "max_minute = df_fil['minute'].max()\n",
    "# Create 10 frames for each minute's growth\n",
    "frames_per_minute = 10\n",
    "all_frames = np.linspace(0, max_minute, int(max_minute) * frames_per_minute)\n",
    "\n",
    "fps = 20  # Based on your writer fps setting\n",
    "freeze_frames = int(7 * fps)  # 7 seconds worth of frames\n",
    "last_frame = int(max_minute)  # The last frame value\n",
    "freeze_extension = [last_frame] * freeze_frames\n",
    "all_frames = np.append(all_frames, freeze_extension)\n",
    "\n",
    "            \n",
    "print(f\"Creating animation with {len(all_frames)} frames\")\n",
    "\n",
    "ani = animation.FuncAnimation(\n",
    "    fig, \n",
    "    update, \n",
    "    frames=all_frames,\n",
    "    interval=50,  # Faster animation (50ms per frame)\n",
    "    blit=False,\n",
    "    repeat=False\n",
    ")\n",
    "\n",
    "# Show the animation\n",
    "plt.show()\n",
    "\n",
    "# The beginning part of your code remains the same\n",
    "\n",
    "# Save the animation\n",
    "available_writers = animation.writers.list()\n",
    "print(f\"Available animation writers: {available_writers}\")\n",
    "\n",
    "if 'ffmpeg' in available_writers:\n",
    "    # Configure FFmpeg with more compatible settings\n",
    "    ffmpeg_writer = animation.FFMpegWriter(  # Make sure to use animation.FFMpegWriter\n",
    "        fps=20,  # Frames per second\n",
    "        metadata=dict(artist='Enrique Adolfo Lopez Magallon'),\n",
    "        bitrate=5000,  # Higher bitrate for better quality\n",
    "        # More compatible encoding options\n",
    "        codec='h264',  # Standard H.264 encoder instead of hardware-specific one\n",
    "        extra_args=[\n",
    "            '-preset', 'medium',  # Balanced preset\n",
    "            '-crf', '23',  # Reasonable quality (lower = better quality)\n",
    "            '-pix_fmt', 'yuv420p'  # Pixel format for better compatibility\n",
    "            # Removed hardware acceleration options that were causing issues\n",
    "        ]\n",
    "    )\n",
    "\n",
    "    # Save the animation with standard settings\n",
    "    print(\"Saving animation...\")\n",
    "    ani.save(f'{club}_shots_animation_cuda.mp4', writer=ffmpeg_writer, dpi=300)\n",
    "    print(\"Animation saved successfully!\")\n",
    "elif 'pillow' in available_writers:\n",
    "    writer = animation.PillowWriter(fps=20)\n",
    "    ani.save(f'{club}_shot_counts_stem_animation.gif', writer=writer, dpi=150)\n",
    "else:\n",
    "    print(\"No suitable writer found.\")"
   ]
  },
  {
   "cell_type": "code",
   "execution_count": null,
   "id": "85b25ed9-9bad-4221-bb9f-7018cc2923f1",
   "metadata": {},
   "outputs": [],
   "source": []
  }
 ],
 "metadata": {
  "kernelspec": {
   "display_name": "base",
   "language": "python",
   "name": "python3"
  },
  "language_info": {
   "codemirror_mode": {
    "name": "ipython",
    "version": 3
   },
   "file_extension": ".py",
   "mimetype": "text/x-python",
   "name": "python",
   "nbconvert_exporter": "python",
   "pygments_lexer": "ipython3",
   "version": "3.11.11"
  }
 },
 "nbformat": 4,
 "nbformat_minor": 5
}
