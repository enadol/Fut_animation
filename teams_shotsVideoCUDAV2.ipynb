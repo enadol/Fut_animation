{
 "cells": [
  {
   "cell_type": "markdown",
   "id": "0379acc5",
   "metadata": {},
   "source": [
    "IMPORTING ALL NECESSARY PACKAGES. MOST OF THEM ARE ALREADY IN THE ANACONDA DISTRIBUTION"
   ]
  },
  {
   "cell_type": "code",
   "execution_count": 33,
   "id": "8ad26af3",
   "metadata": {},
   "outputs": [],
   "source": [
    "import asyncio\n",
    "import nest_asyncio\n",
    "import aiohttp\n",
    "from understat import Understat\n",
    "import codecs\n",
    "import json\n",
    "import pandas as pd\n",
    "import matplotlib.pyplot as plt\n",
    "import numpy as np\n",
    "import matplotlib as mpl\n",
    "import matplotlib.animation as animation\n",
    "import torch\n",
    "import subprocess\n",
    "import os\n",
    "from highlight_text import ax_text,fig_text\n",
    "from mplsoccer import (VerticalPitch)\n",
    "from PIL import Image, ImageFilter, ImageEnhance\n",
    "from mplsoccer import add_image\n",
    "from matplotlib.animation import FFMpegWriter"
   ]
  },
  {
   "cell_type": "code",
   "execution_count": 34,
   "id": "ee98a844",
   "metadata": {},
   "outputs": [],
   "source": [
    "os.environ[\"KMP_DUPLICATE_LIB_OK\"] = \"TRUE\""
   ]
  },
  {
   "cell_type": "code",
   "execution_count": 35,
   "id": "7529fd65-5242-4b7d-9669-93d4b91e02a3",
   "metadata": {},
   "outputs": [],
   "source": [
    "club=\"Borussia Dortmund\""
   ]
  },
  {
   "cell_type": "code",
   "execution_count": 36,
   "id": "2c58c5be",
   "metadata": {},
   "outputs": [],
   "source": [
    "with open('club_name.txt', 'w') as f:\n",
    "    f.write(club)\n",
    "    f.close"
   ]
  },
  {
   "cell_type": "code",
   "execution_count": 37,
   "id": "dc3fab7d-5984-4b6f-81b6-957eb7949895",
   "metadata": {},
   "outputs": [
    {
     "data": {
      "text/plain": [
       "'Borussia Dortmund'"
      ]
     },
     "execution_count": 37,
     "metadata": {},
     "output_type": "execute_result"
    }
   ],
   "source": [
    "team_for_foto=\"\"\n",
    "if club == \"RasenBallsport Leipzig\":\n",
    "    team_for_foto=\"RB Leipzig\"\n",
    "elif club == \"FC Cologne\":\n",
    "    team_for_foto=\"FC Köln\"\n",
    "elif club== \"Augsburg\":\n",
    "    team_for_foto=\"FC Augsburg\"\n",
    "elif club== \"Borussia M.Gladbach\":\n",
    "    team_for_foto=\"Borussia Mönchengladbach\"\n",
    "else:\n",
    "    team_for_foto=club\n",
    "team_for_foto"
   ]
  },
  {
   "cell_type": "code",
   "execution_count": 38,
   "id": "615c7ba6-846f-487c-adc9-16bcc2397405",
   "metadata": {},
   "outputs": [],
   "source": [
    "torneo=\"2025-2026\""
   ]
  },
  {
   "cell_type": "code",
   "execution_count": 39,
   "id": "b43f0f98",
   "metadata": {},
   "outputs": [],
   "source": [
    "foto_path=f'images/{team_for_foto}.png'"
   ]
  },
  {
   "cell_type": "code",
   "execution_count": 40,
   "id": "92185915",
   "metadata": {},
   "outputs": [
    {
     "name": "stdout",
     "output_type": "stream",
     "text": [
      "Borussia Dortmund\n",
      "[\n",
      "    {\n",
      "        \"id\": \"30230\",\n",
      "        \"isResult\": true,\n",
      "        \"side\": \"a\",\n",
      "        \"h\": {\n",
      "            \"id\": \"288\",\n",
      "            \"title\": \"St. Pauli\",\n",
      "            \"short_title\": \"SPA\"\n",
      "        },\n",
      "        \"a\": {\n",
      "            \"id\": \"129\",\n",
      "            \"title\": \"Borussia Dortmund\",\n",
      "            \"short_title\": \"DOR\"\n",
      "        },\n",
      "        \"goals\": {\n",
      "            \"h\": \"3\",\n",
      "            \"a\": \"3\"\n",
      "        },\n",
      "        \"xG\": {\n",
      "            \"h\": \"1.46772\",\n",
      "            \"a\": \"2.10289\"\n",
      "        },\n",
      "        \"datetime\": \"2025-08-23 16:30:00\",\n",
      "        \"forecast\": {\n",
      "            \"w\": 0.2676940231295394,\n",
      "            \"d\": 0.2100132816889559,\n",
      "            \"l\": 0.5222926876539226\n",
      "        },\n",
      "        \"result\": \"d\"\n",
      "    },\n",
      "    {\n",
      "        \"id\": \"30240\",\n",
      "        \"isResult\": true,\n",
      "        \"side\": \"h\",\n",
      "        \"h\": {\n",
      "            \"id\": \"129\",\n",
      "            \"title\": \"Borussia Dortmund\",\n",
      "            \"short_title\": \"DOR\"\n",
      "        },\n",
      "        \"a\": {\n",
      "            \"id\": \"240\",\n",
      "            \"title\": \"Union Berlin\",\n",
      "            \"short_title\": \"UNI\"\n",
      "        },\n",
      "        \"goals\": {\n",
      "            \"h\": \"3\",\n",
      "            \"a\": \"0\"\n",
      "        },\n",
      "        \"xG\": {\n",
      "            \"h\": \"1.82606\",\n",
      "            \"a\": \"0.971167\"\n",
      "        },\n",
      "        \"datetime\": \"2025-08-31 15:30:00\",\n",
      "        \"forecast\": {\n",
      "            \"w\": 0.5744696167279175,\n",
      "            \"d\": 0.2276362911089638,\n",
      "            \"l\": 0.19789409100041136\n",
      "        },\n",
      "        \"result\": \"w\"\n",
      "    },\n",
      "    {\n",
      "        \"id\": \"30244\",\n",
      "        \"isResult\": true,\n",
      "        \"side\": \"a\",\n",
      "        \"h\": {\n",
      "            \"id\": \"280\",\n",
      "            \"title\": \"FC Heidenheim\",\n",
      "            \"short_title\": \"HEI\"\n",
      "        },\n",
      "        \"a\": {\n",
      "            \"id\": \"129\",\n",
      "            \"title\": \"Borussia Dortmund\",\n",
      "            \"short_title\": \"DOR\"\n",
      "        },\n",
      "        \"goals\": {\n",
      "            \"h\": \"0\",\n",
      "            \"a\": \"2\"\n",
      "        },\n",
      "        \"xG\": {\n",
      "            \"h\": \"0.299026\",\n",
      "            \"a\": \"2.84999\"\n",
      "        },\n",
      "        \"datetime\": \"2025-09-13 13:30:00\",\n",
      "        \"forecast\": {\n",
      "            \"w\": 0.021903296395165618,\n",
      "            \"d\": 0.0880162226809786,\n",
      "            \"l\": 0.8900801240869585\n",
      "        },\n",
      "        \"result\": \"w\"\n",
      "    },\n",
      "    {\n",
      "        \"id\": \"30259\",\n",
      "        \"isResult\": true,\n",
      "        \"side\": \"h\",\n",
      "        \"h\": {\n",
      "            \"id\": \"129\",\n",
      "            \"title\": \"Borussia Dortmund\",\n",
      "            \"short_title\": \"DOR\"\n",
      "        },\n",
      "        \"a\": {\n",
      "            \"id\": \"131\",\n",
      "            \"title\": \"Wolfsburg\",\n",
      "            \"short_title\": \"WOL\"\n",
      "        },\n",
      "        \"goals\": {\n",
      "            \"h\": \"1\",\n",
      "            \"a\": \"0\"\n",
      "        },\n",
      "        \"xG\": {\n",
      "            \"h\": \"1.24747\",\n",
      "            \"a\": \"0.975457\"\n",
      "        },\n",
      "        \"datetime\": \"2025-09-21 17:30:00\",\n",
      "        \"forecast\": {\n",
      "            \"w\": 0.42492983797017236,\n",
      "            \"d\": 0.2860075761493801,\n",
      "            \"l\": 0.28906258587367073\n",
      "        },\n",
      "        \"result\": \"w\"\n",
      "    },\n",
      "    {\n",
      "        \"id\": \"30262\",\n",
      "        \"isResult\": true,\n",
      "        \"side\": \"a\",\n",
      "        \"h\": {\n",
      "            \"id\": \"125\",\n",
      "            \"title\": \"Mainz 05\",\n",
      "            \"short_title\": \"MAI\"\n",
      "        },\n",
      "        \"a\": {\n",
      "            \"id\": \"129\",\n",
      "            \"title\": \"Borussia Dortmund\",\n",
      "            \"short_title\": \"DOR\"\n",
      "        },\n",
      "        \"goals\": {\n",
      "            \"h\": \"0\",\n",
      "            \"a\": \"2\"\n",
      "        },\n",
      "        \"xG\": {\n",
      "            \"h\": \"0.525149\",\n",
      "            \"a\": \"1.75519\"\n",
      "        },\n",
      "        \"datetime\": \"2025-09-27 13:30:00\",\n",
      "        \"forecast\": {\n",
      "            \"w\": 0.10503672923789056,\n",
      "            \"d\": 0.22057159892859568,\n",
      "            \"l\": 0.6743916711477417\n",
      "        },\n",
      "        \"result\": \"w\"\n",
      "    },\n",
      "    {\n",
      "        \"id\": \"30271\",\n",
      "        \"isResult\": true,\n",
      "        \"side\": \"h\",\n",
      "        \"h\": {\n",
      "            \"id\": \"129\",\n",
      "            \"title\": \"Borussia Dortmund\",\n",
      "            \"short_title\": \"DOR\"\n",
      "        },\n",
      "        \"a\": {\n",
      "            \"id\": \"136\",\n",
      "            \"title\": \"RasenBallsport Leipzig\",\n",
      "            \"short_title\": \"RBL\"\n",
      "        },\n",
      "        \"goals\": {\n",
      "            \"h\": \"1\",\n",
      "            \"a\": \"1\"\n",
      "        },\n",
      "        \"xG\": {\n",
      "            \"h\": \"0.668613\",\n",
      "            \"a\": \"1.14077\"\n",
      "        },\n",
      "        \"datetime\": \"2025-10-04 13:30:00\",\n",
      "        \"forecast\": {\n",
      "            \"w\": 0.21539974095081782,\n",
      "            \"d\": 0.31459099261646734,\n",
      "            \"l\": 0.4700092664308175\n",
      "        },\n",
      "        \"result\": \"d\"\n",
      "    },\n",
      "    {\n",
      "        \"id\": \"30278\",\n",
      "        \"isResult\": true,\n",
      "        \"side\": \"a\",\n",
      "        \"h\": {\n",
      "            \"id\": \"117\",\n",
      "            \"title\": \"Bayern Munich\",\n",
      "            \"short_title\": \"BAY\"\n",
      "        },\n",
      "        \"a\": {\n",
      "            \"id\": \"129\",\n",
      "            \"title\": \"Borussia Dortmund\",\n",
      "            \"short_title\": \"DOR\"\n",
      "        },\n",
      "        \"goals\": {\n",
      "            \"h\": \"2\",\n",
      "            \"a\": \"1\"\n",
      "        },\n",
      "        \"xG\": {\n",
      "            \"h\": \"2.81994\",\n",
      "            \"a\": \"1.41011\"\n",
      "        },\n",
      "        \"datetime\": \"2025-10-18 16:30:00\",\n",
      "        \"forecast\": {\n",
      "            \"w\": 0.6680587640569655,\n",
      "            \"d\": 0.16279426105608447,\n",
      "            \"l\": 0.16914666187970476\n",
      "        },\n",
      "        \"result\": \"l\"\n",
      "    },\n",
      "    {\n",
      "        \"id\": \"30290\",\n",
      "        \"isResult\": true,\n",
      "        \"side\": \"h\",\n",
      "        \"h\": {\n",
      "            \"id\": \"129\",\n",
      "            \"title\": \"Borussia Dortmund\",\n",
      "            \"short_title\": \"DOR\"\n",
      "        },\n",
      "        \"a\": {\n",
      "            \"id\": \"134\",\n",
      "            \"title\": \"FC Cologne\",\n",
      "            \"short_title\": \"COL\"\n",
      "        },\n",
      "        \"goals\": {\n",
      "            \"h\": \"1\",\n",
      "            \"a\": \"0\"\n",
      "        },\n",
      "        \"xG\": {\n",
      "            \"h\": \"2.09125\",\n",
      "            \"a\": \"0.70563\"\n",
      "        },\n",
      "        \"datetime\": \"2025-10-25 16:30:00\",\n",
      "        \"forecast\": {\n",
      "            \"w\": 0.6959045559613637,\n",
      "            \"d\": 0.19020009375147356,\n",
      "            \"l\": 0.11389534334258627\n",
      "        },\n",
      "        \"result\": \"w\"\n",
      "    }\n",
      "]\n"
     ]
    }
   ],
   "source": [
    "%run -i undesstatteams.py"
   ]
  },
  {
   "cell_type": "code",
   "execution_count": 41,
   "id": "3cd3771b-69e8-4ae2-853d-a02e218b70d6",
   "metadata": {},
   "outputs": [],
   "source": [
    "# Get csv from D://understatteams.py !!!!!\n",
    "df_understat=pd.read_csv(f'{club}_seasons_shots.csv')"
   ]
  },
  {
   "cell_type": "code",
   "execution_count": 42,
   "id": "a0cc49b4-b98e-4b9a-9dd5-7ed7161a1e7d",
   "metadata": {
    "scrolled": true
   },
   "outputs": [
    {
     "data": {
      "application/vnd.microsoft.datawrangler.viewer.v0+json": {
       "columns": [
        {
         "name": "index",
         "rawType": "int64",
         "type": "integer"
        },
        {
         "name": "minute",
         "rawType": "int64",
         "type": "integer"
        },
        {
         "name": "X",
         "rawType": "float64",
         "type": "float"
        },
        {
         "name": "Y",
         "rawType": "float64",
         "type": "float"
        },
        {
         "name": "player",
         "rawType": "object",
         "type": "string"
        },
        {
         "name": "shotType",
         "rawType": "object",
         "type": "string"
        },
        {
         "name": "result",
         "rawType": "object",
         "type": "string"
        },
        {
         "name": "h_team",
         "rawType": "object",
         "type": "string"
        },
        {
         "name": "a_team",
         "rawType": "object",
         "type": "string"
        },
        {
         "name": "player_assisted",
         "rawType": "object",
         "type": "unknown"
        },
        {
         "name": "xG",
         "rawType": "float64",
         "type": "float"
        }
       ],
       "ref": "a9a6dbbc-bc04-46c1-941b-b2473dcf5dde",
       "rows": [
        [
         "0",
         "23",
         "0.9009999847412108",
         "0.2679999923706054",
         "Serhou Guirassy",
         "RightFoot",
         "SavedShot",
         "St. Pauli",
         "Borussia Dortmund",
         "Pascal Groß",
         "0.0649675130844116"
        ],
        [
         "1",
         "24",
         "0.97",
         "0.4059999847412109",
         "Pascal Groß",
         "RightFoot",
         "SavedShot",
         "St. Pauli",
         "Borussia Dortmund",
         "Karim Adeyemi",
         "0.4367899000644684"
        ],
        [
         "2",
         "33",
         "0.9290000152587892",
         "0.4620000076293945",
         "Serhou Guirassy",
         "Head",
         "Goal",
         "St. Pauli",
         "Borussia Dortmund",
         "Marcel Sabitzer",
         "0.4553661048412323"
        ],
        [
         "3",
         "38",
         "0.885",
         "0.5",
         "Serhou Guirassy",
         "RightFoot",
         "SavedShot",
         "St. Pauli",
         "Borussia Dortmund",
         null,
         "0.75777667760849"
        ],
        [
         "4",
         "46",
         "0.7980000305175782",
         "0.6029999923706054",
         "Julian Brandt",
         "LeftFoot",
         "SavedShot",
         "St. Pauli",
         "Borussia Dortmund",
         "Daniel Svensson",
         "0.0409019999206066"
        ]
       ],
       "shape": {
        "columns": 10,
        "rows": 5
       }
      },
      "text/html": [
       "<div>\n",
       "<style scoped>\n",
       "    .dataframe tbody tr th:only-of-type {\n",
       "        vertical-align: middle;\n",
       "    }\n",
       "\n",
       "    .dataframe tbody tr th {\n",
       "        vertical-align: top;\n",
       "    }\n",
       "\n",
       "    .dataframe thead th {\n",
       "        text-align: right;\n",
       "    }\n",
       "</style>\n",
       "<table border=\"1\" class=\"dataframe\">\n",
       "  <thead>\n",
       "    <tr style=\"text-align: right;\">\n",
       "      <th></th>\n",
       "      <th>minute</th>\n",
       "      <th>X</th>\n",
       "      <th>Y</th>\n",
       "      <th>player</th>\n",
       "      <th>shotType</th>\n",
       "      <th>result</th>\n",
       "      <th>h_team</th>\n",
       "      <th>a_team</th>\n",
       "      <th>player_assisted</th>\n",
       "      <th>xG</th>\n",
       "    </tr>\n",
       "  </thead>\n",
       "  <tbody>\n",
       "    <tr>\n",
       "      <th>0</th>\n",
       "      <td>23</td>\n",
       "      <td>0.901</td>\n",
       "      <td>0.268</td>\n",
       "      <td>Serhou Guirassy</td>\n",
       "      <td>RightFoot</td>\n",
       "      <td>SavedShot</td>\n",
       "      <td>St. Pauli</td>\n",
       "      <td>Borussia Dortmund</td>\n",
       "      <td>Pascal Groß</td>\n",
       "      <td>0.064968</td>\n",
       "    </tr>\n",
       "    <tr>\n",
       "      <th>1</th>\n",
       "      <td>24</td>\n",
       "      <td>0.970</td>\n",
       "      <td>0.406</td>\n",
       "      <td>Pascal Groß</td>\n",
       "      <td>RightFoot</td>\n",
       "      <td>SavedShot</td>\n",
       "      <td>St. Pauli</td>\n",
       "      <td>Borussia Dortmund</td>\n",
       "      <td>Karim Adeyemi</td>\n",
       "      <td>0.436790</td>\n",
       "    </tr>\n",
       "    <tr>\n",
       "      <th>2</th>\n",
       "      <td>33</td>\n",
       "      <td>0.929</td>\n",
       "      <td>0.462</td>\n",
       "      <td>Serhou Guirassy</td>\n",
       "      <td>Head</td>\n",
       "      <td>Goal</td>\n",
       "      <td>St. Pauli</td>\n",
       "      <td>Borussia Dortmund</td>\n",
       "      <td>Marcel Sabitzer</td>\n",
       "      <td>0.455366</td>\n",
       "    </tr>\n",
       "    <tr>\n",
       "      <th>3</th>\n",
       "      <td>38</td>\n",
       "      <td>0.885</td>\n",
       "      <td>0.500</td>\n",
       "      <td>Serhou Guirassy</td>\n",
       "      <td>RightFoot</td>\n",
       "      <td>SavedShot</td>\n",
       "      <td>St. Pauli</td>\n",
       "      <td>Borussia Dortmund</td>\n",
       "      <td>NaN</td>\n",
       "      <td>0.757777</td>\n",
       "    </tr>\n",
       "    <tr>\n",
       "      <th>4</th>\n",
       "      <td>46</td>\n",
       "      <td>0.798</td>\n",
       "      <td>0.603</td>\n",
       "      <td>Julian Brandt</td>\n",
       "      <td>LeftFoot</td>\n",
       "      <td>SavedShot</td>\n",
       "      <td>St. Pauli</td>\n",
       "      <td>Borussia Dortmund</td>\n",
       "      <td>Daniel Svensson</td>\n",
       "      <td>0.040902</td>\n",
       "    </tr>\n",
       "  </tbody>\n",
       "</table>\n",
       "</div>"
      ],
      "text/plain": [
       "   minute      X      Y           player   shotType     result     h_team  \\\n",
       "0      23  0.901  0.268  Serhou Guirassy  RightFoot  SavedShot  St. Pauli   \n",
       "1      24  0.970  0.406      Pascal Groß  RightFoot  SavedShot  St. Pauli   \n",
       "2      33  0.929  0.462  Serhou Guirassy       Head       Goal  St. Pauli   \n",
       "3      38  0.885  0.500  Serhou Guirassy  RightFoot  SavedShot  St. Pauli   \n",
       "4      46  0.798  0.603    Julian Brandt   LeftFoot  SavedShot  St. Pauli   \n",
       "\n",
       "              a_team  player_assisted        xG  \n",
       "0  Borussia Dortmund      Pascal Groß  0.064968  \n",
       "1  Borussia Dortmund    Karim Adeyemi  0.436790  \n",
       "2  Borussia Dortmund  Marcel Sabitzer  0.455366  \n",
       "3  Borussia Dortmund              NaN  0.757777  \n",
       "4  Borussia Dortmund  Daniel Svensson  0.040902  "
      ]
     },
     "execution_count": 42,
     "metadata": {},
     "output_type": "execute_result"
    }
   ],
   "source": [
    "df_understat.head()"
   ]
  },
  {
   "cell_type": "code",
   "execution_count": 43,
   "id": "484c44f3",
   "metadata": {
    "scrolled": true
   },
   "outputs": [
    {
     "data": {
      "text/plain": [
       "0"
      ]
     },
     "execution_count": 43,
     "metadata": {},
     "output_type": "execute_result"
    }
   ],
   "source": [
    "own_goals_total=len(df_understat[df_understat['result']=='OwnGoal'])\n",
    "own_goals_total"
   ]
  },
  {
   "cell_type": "code",
   "execution_count": 44,
   "id": "ff36cc9d-7298-4213-836a-a24468753f5b",
   "metadata": {},
   "outputs": [
    {
     "data": {
      "application/vnd.microsoft.datawrangler.viewer.v0+json": {
       "columns": [
        {
         "name": "index",
         "rawType": "int64",
         "type": "integer"
        },
        {
         "name": "minute",
         "rawType": "int64",
         "type": "integer"
        },
        {
         "name": "X",
         "rawType": "float64",
         "type": "float"
        },
        {
         "name": "Y",
         "rawType": "float64",
         "type": "float"
        },
        {
         "name": "player",
         "rawType": "object",
         "type": "string"
        },
        {
         "name": "shotType",
         "rawType": "object",
         "type": "string"
        },
        {
         "name": "result",
         "rawType": "object",
         "type": "string"
        },
        {
         "name": "h_team",
         "rawType": "object",
         "type": "string"
        },
        {
         "name": "a_team",
         "rawType": "object",
         "type": "string"
        },
        {
         "name": "player_assisted",
         "rawType": "object",
         "type": "string"
        },
        {
         "name": "xG",
         "rawType": "float64",
         "type": "float"
        }
       ],
       "ref": "b8b91e18-bf8b-4bec-912f-ea89dbde1c7e",
       "rows": [],
       "shape": {
        "columns": 10,
        "rows": 0
       }
      },
      "text/html": [
       "<div>\n",
       "<style scoped>\n",
       "    .dataframe tbody tr th:only-of-type {\n",
       "        vertical-align: middle;\n",
       "    }\n",
       "\n",
       "    .dataframe tbody tr th {\n",
       "        vertical-align: top;\n",
       "    }\n",
       "\n",
       "    .dataframe thead th {\n",
       "        text-align: right;\n",
       "    }\n",
       "</style>\n",
       "<table border=\"1\" class=\"dataframe\">\n",
       "  <thead>\n",
       "    <tr style=\"text-align: right;\">\n",
       "      <th></th>\n",
       "      <th>minute</th>\n",
       "      <th>X</th>\n",
       "      <th>Y</th>\n",
       "      <th>player</th>\n",
       "      <th>shotType</th>\n",
       "      <th>result</th>\n",
       "      <th>h_team</th>\n",
       "      <th>a_team</th>\n",
       "      <th>player_assisted</th>\n",
       "      <th>xG</th>\n",
       "    </tr>\n",
       "  </thead>\n",
       "  <tbody>\n",
       "  </tbody>\n",
       "</table>\n",
       "</div>"
      ],
      "text/plain": [
       "Empty DataFrame\n",
       "Columns: [minute, X, Y, player, shotType, result, h_team, a_team, player_assisted, xG]\n",
       "Index: []"
      ]
     },
     "execution_count": 44,
     "metadata": {},
     "output_type": "execute_result"
    }
   ],
   "source": [
    "own_goals=df_understat[df_understat['result']=='OwnGoal']\n",
    "own_goals['xG']=0.5\n",
    "own_goals"
   ]
  },
  {
   "cell_type": "code",
   "execution_count": 45,
   "id": "9d0b6f1e-b303-479f-ab08-766241049505",
   "metadata": {
    "scrolled": true
   },
   "outputs": [],
   "source": [
    "async def main():\n",
    "    async with aiohttp.ClientSession() as session:\n",
    "        understat = Understat(session)\n",
    "        players = await understat.get_league_players(\n",
    "            \"bundesliga\",\n",
    "            2025,\n",
    "            team_title=club\n",
    "        )\n",
    "        squad=json.dumps(players, indent=4, ensure_ascii=False)\n",
    "    with codecs.open(f'{club}_squad.json', \"w\", \"utf-8\") as jsonfile:\n",
    "        jsonfile.write(squad)\n",
    "        #json.dumps(jamal_json, indent=4)\n",
    "        jsonfile.close() \n",
    "\n",
    "nest_asyncio.apply()\n",
    "loop = asyncio.get_event_loop()\n",
    "loop.run_until_complete(main())\n",
    "\n",
    "squad_df=pd.read_json(f'{club}_squad.json')"
   ]
  },
  {
   "cell_type": "code",
   "execution_count": 46,
   "id": "b3c365a7-f0df-4a33-9f72-bd663fd6c268",
   "metadata": {},
   "outputs": [
    {
     "data": {
      "text/plain": [
       "array(['Serhou Guirassy', 'Julian Brandt', 'Maximilian Beier',\n",
       "       'Karim Adeyemi', 'Waldemar Anton', 'Felix Nmecha', 'Yan Couto',\n",
       "       'Daniel Svensson', 'Niklas Süle', 'Pascal Groß', 'Ramy Bensebaini',\n",
       "       'Marcel Sabitzer', 'Gregor Kobel', 'Salih Özcan',\n",
       "       'Nico Schlotterbeck', 'Julian Ryerson', 'Fabio Silva',\n",
       "       'Carney Chukwuemeka', 'Filippo Mané', 'Cole Campbell',\n",
       "       'Aaron Anselmino', 'Jobe Bellingham'], dtype=object)"
      ]
     },
     "execution_count": 46,
     "metadata": {},
     "output_type": "execute_result"
    }
   ],
   "source": [
    "squad=squad_df['player_name'].unique()\n",
    "squad"
   ]
  },
  {
   "cell_type": "code",
   "execution_count": 47,
   "id": "1e8fabd2-26d3-447b-a0bc-9243d5cb7a34",
   "metadata": {
    "scrolled": true
   },
   "outputs": [
    {
     "data": {
      "text/plain": [
       "False"
      ]
     },
     "execution_count": 47,
     "metadata": {},
     "output_type": "execute_result"
    }
   ],
   "source": [
    "\"Paul Nebel\" in squad"
   ]
  },
  {
   "cell_type": "code",
   "execution_count": 48,
   "id": "8f69674f-d67b-4f74-9e79-5b20e821548c",
   "metadata": {},
   "outputs": [
    {
     "data": {
      "text/plain": [
       "0"
      ]
     },
     "execution_count": 48,
     "metadata": {},
     "output_type": "execute_result"
    }
   ],
   "source": [
    "own_goals_len=len(own_goals[~own_goals['player'].isin(squad)])\n",
    "own_goals_len"
   ]
  },
  {
   "cell_type": "code",
   "execution_count": 49,
   "id": "40c24147-b377-4aff-a7a7-56e9b4a620a4",
   "metadata": {},
   "outputs": [
    {
     "data": {
      "application/vnd.microsoft.datawrangler.viewer.v0+json": {
       "columns": [
        {
         "name": "index",
         "rawType": "int64",
         "type": "integer"
        },
        {
         "name": "minute",
         "rawType": "int64",
         "type": "integer"
        },
        {
         "name": "X",
         "rawType": "float64",
         "type": "float"
        },
        {
         "name": "Y",
         "rawType": "float64",
         "type": "float"
        },
        {
         "name": "player",
         "rawType": "object",
         "type": "string"
        },
        {
         "name": "shotType",
         "rawType": "object",
         "type": "string"
        },
        {
         "name": "result",
         "rawType": "object",
         "type": "string"
        },
        {
         "name": "h_team",
         "rawType": "object",
         "type": "string"
        },
        {
         "name": "a_team",
         "rawType": "object",
         "type": "string"
        },
        {
         "name": "player_assisted",
         "rawType": "object",
         "type": "string"
        },
        {
         "name": "xG",
         "rawType": "float64",
         "type": "float"
        }
       ],
       "ref": "497bd01e-9ec4-4400-ad4b-bac8eaef3e99",
       "rows": [],
       "shape": {
        "columns": 10,
        "rows": 0
       }
      },
      "text/html": [
       "<div>\n",
       "<style scoped>\n",
       "    .dataframe tbody tr th:only-of-type {\n",
       "        vertical-align: middle;\n",
       "    }\n",
       "\n",
       "    .dataframe tbody tr th {\n",
       "        vertical-align: top;\n",
       "    }\n",
       "\n",
       "    .dataframe thead th {\n",
       "        text-align: right;\n",
       "    }\n",
       "</style>\n",
       "<table border=\"1\" class=\"dataframe\">\n",
       "  <thead>\n",
       "    <tr style=\"text-align: right;\">\n",
       "      <th></th>\n",
       "      <th>minute</th>\n",
       "      <th>X</th>\n",
       "      <th>Y</th>\n",
       "      <th>player</th>\n",
       "      <th>shotType</th>\n",
       "      <th>result</th>\n",
       "      <th>h_team</th>\n",
       "      <th>a_team</th>\n",
       "      <th>player_assisted</th>\n",
       "      <th>xG</th>\n",
       "    </tr>\n",
       "  </thead>\n",
       "  <tbody>\n",
       "  </tbody>\n",
       "</table>\n",
       "</div>"
      ],
      "text/plain": [
       "Empty DataFrame\n",
       "Columns: [minute, X, Y, player, shotType, result, h_team, a_team, player_assisted, xG]\n",
       "Index: []"
      ]
     },
     "execution_count": 49,
     "metadata": {},
     "output_type": "execute_result"
    }
   ],
   "source": [
    "ogf=own_goals[~own_goals['player'].isin(squad)]\n",
    "ogf"
   ]
  },
  {
   "cell_type": "code",
   "execution_count": 50,
   "id": "11457253-98c1-4a75-8dd1-1780f08e5e44",
   "metadata": {
    "scrolled": true
   },
   "outputs": [
    {
     "data": {
      "text/plain": [
       "0"
      ]
     },
     "execution_count": 50,
     "metadata": {},
     "output_type": "execute_result"
    }
   ],
   "source": [
    "own_goals_for=0\n",
    "for player in own_goals['player']:\n",
    "    if player not in squad:\n",
    "        own_goals_for+=1\n",
    "own_goals_for"
   ]
  },
  {
   "cell_type": "code",
   "execution_count": 51,
   "id": "4e66a111",
   "metadata": {},
   "outputs": [],
   "source": [
    "# THE X AND Y LABELS ARE SCALED BETWEEN 0 and 1. SINCE WE WILL BE USING OPTA AXES WHICH GO FROM 100 to 100, WE NEED TO\n",
    "# SCALE BOTH THESE UPTO 100\n",
    "\n",
    "df_understat['X'] = df_understat['X'].apply(lambda x:x*100)\n",
    "df_understat['Y'] = df_understat['Y'].apply(lambda x:x*100)\n",
    "\n",
    "#df_understat['result'].unique()"
   ]
  },
  {
   "cell_type": "code",
   "execution_count": 52,
   "id": "a0a4cef6-6a76-4735-8a8a-e6335acc9409",
   "metadata": {},
   "outputs": [
    {
     "data": {
      "application/vnd.microsoft.datawrangler.viewer.v0+json": {
       "columns": [
        {
         "name": "index",
         "rawType": "int64",
         "type": "integer"
        },
        {
         "name": "minute",
         "rawType": "int64",
         "type": "integer"
        },
        {
         "name": "X",
         "rawType": "float64",
         "type": "float"
        },
        {
         "name": "Y",
         "rawType": "float64",
         "type": "float"
        },
        {
         "name": "player",
         "rawType": "object",
         "type": "string"
        },
        {
         "name": "shotType",
         "rawType": "object",
         "type": "string"
        },
        {
         "name": "result",
         "rawType": "object",
         "type": "string"
        },
        {
         "name": "h_team",
         "rawType": "object",
         "type": "string"
        },
        {
         "name": "a_team",
         "rawType": "object",
         "type": "string"
        },
        {
         "name": "player_assisted",
         "rawType": "object",
         "type": "string"
        },
        {
         "name": "xG",
         "rawType": "float64",
         "type": "float"
        }
       ],
       "ref": "e74dad29-9a79-400b-acea-de324ec10d4a",
       "rows": [],
       "shape": {
        "columns": 10,
        "rows": 0
       }
      },
      "text/html": [
       "<div>\n",
       "<style scoped>\n",
       "    .dataframe tbody tr th:only-of-type {\n",
       "        vertical-align: middle;\n",
       "    }\n",
       "\n",
       "    .dataframe tbody tr th {\n",
       "        vertical-align: top;\n",
       "    }\n",
       "\n",
       "    .dataframe thead th {\n",
       "        text-align: right;\n",
       "    }\n",
       "</style>\n",
       "<table border=\"1\" class=\"dataframe\">\n",
       "  <thead>\n",
       "    <tr style=\"text-align: right;\">\n",
       "      <th></th>\n",
       "      <th>minute</th>\n",
       "      <th>X</th>\n",
       "      <th>Y</th>\n",
       "      <th>player</th>\n",
       "      <th>shotType</th>\n",
       "      <th>result</th>\n",
       "      <th>h_team</th>\n",
       "      <th>a_team</th>\n",
       "      <th>player_assisted</th>\n",
       "      <th>xG</th>\n",
       "    </tr>\n",
       "  </thead>\n",
       "  <tbody>\n",
       "  </tbody>\n",
       "</table>\n",
       "</div>"
      ],
      "text/plain": [
       "Empty DataFrame\n",
       "Columns: [minute, X, Y, player, shotType, result, h_team, a_team, player_assisted, xG]\n",
       "Index: []"
      ]
     },
     "execution_count": 52,
     "metadata": {},
     "output_type": "execute_result"
    }
   ],
   "source": [
    "df_understat[df_understat['result']=='OwnGoal']"
   ]
  },
  {
   "cell_type": "code",
   "execution_count": 53,
   "id": "07880ca2",
   "metadata": {},
   "outputs": [],
   "source": [
    "#pip install mplsoccer\n",
    "#pip install highlight-text"
   ]
  },
  {
   "cell_type": "markdown",
   "id": "92166f6c",
   "metadata": {},
   "source": [
    "WE WILL CHANGE SOME OF THE BASIC PARAMETERS USING THE rcParams method OF MPL"
   ]
  },
  {
   "cell_type": "code",
   "execution_count": 54,
   "id": "161502eb",
   "metadata": {},
   "outputs": [],
   "source": [
    "background = '#D6DBD9'\n",
    "text_color = 'black'\n",
    "mpl.rcParams['xtick.color']=text_color\n",
    "mpl.rcParams['ytick.color']=text_color\n",
    "mpl.rcParams['text.color']=text_color\n",
    "mpl.rcParams['font.family']='sans-serif'\n",
    "mpl.rcParams['font.sans-serif']='Franklin Gothic Medium Cond'\n",
    "mpl.rcParams['legend.fontsize'] = 12\n"
   ]
  },
  {
   "cell_type": "code",
   "execution_count": 55,
   "id": "72ca3f5d",
   "metadata": {},
   "outputs": [],
   "source": [
    "#mpl.font_manager.FontManager.get_font_names(mpl)"
   ]
  },
  {
   "cell_type": "code",
   "execution_count": 56,
   "id": "4095c65f-d0df-421d-adf9-a41bac0aeb13",
   "metadata": {},
   "outputs": [
    {
     "name": "stdout",
     "output_type": "stream",
     "text": [
      "using cuda device\n"
     ]
    }
   ],
   "source": [
    "if torch.cuda.is_available():\n",
    "    device = torch.device(\"cuda\")\n",
    "else:\n",
    "    device = torch.device(\"cpu\")\n",
    "    \n",
    "print(\"using\", device, \"device\")"
   ]
  },
  {
   "cell_type": "code",
   "execution_count": 57,
   "id": "c31e4c55-50f1-416b-a241-7c7ba8522133",
   "metadata": {
    "scrolled": true
   },
   "outputs": [
    {
     "data": {
      "image/png": "[encoded data removed]",
      "text/plain": [
       "<Figure size 1200x1000 with 2 Axes>"
      ]
     },
     "metadata": {},
     "output_type": "display_data"
    }
   ],
   "source": [
    "# SETTING UP THE AXES\n",
    "#fig, ax = plt.subplots(figsize=(10,12))\n",
    "#ax.axis('off')\n",
    "#fig.set_facecolor(background)\n",
    "\n",
    "#SETTING UP THE MPL AXIS FOR THE FIRST TEAM\n",
    "pitch = pitch = VerticalPitch(pad_bottom=0.5,  # pitch extends slightly below halfway line \n",
    "    half=True,  # half of a pitch\n",
    "    goal_type='box',\n",
    "    goal_alpha=0.8, \n",
    "    pitch_type='opta',\n",
    "    pitch_color='#aabb97',\n",
    "    stripe=True,\n",
    "    stripe_color='#c2d59d',\n",
    "    line_color='white')  \n",
    "\n",
    "fig, ax = pitch.draw(figsize=(12, 10))\n",
    "\n",
    "#PLOTTING HTEAM\n",
    "#df_fil = df_understat.loc[df_understat['HomeAway']=='h']\n",
    "df_fil = df_understat\n",
    "#df_hOG = df_fil[df_fil['HomeAway']=='a']\n",
    "#df_fil = df_a\n",
    "#df_hOG = df_fil[df_fil['HomeAway']=='h']\n",
    "df_h1H = df_fil[df_fil['minute']<=45]\n",
    "df_h2H = df_fil[df_fil['minute']>45]\n",
    "\n",
    "#PLOTTING SHOTS TEAM 1 PER TYPE AND HALF.LABELS APPEAR ONLY IF VARIABLE IS FILLED\n",
    "\n",
    "\n",
    "if \"ShotOnPost\" in iter(df_h1H['result']):\n",
    "    pitch.scatter(df_h1H[df_h1H['result']=='ShotOnPost']['X'],df_h1H[df_h1H['result']=='ShotOnPost']['Y'], \n",
    "              s=np.sqrt(df_h1H[df_h1H['result']=='ShotOnPost']['xG'])*150, marker='o', alpha=0.6,\n",
    "              edgecolors='black', facecolor='white', ax=ax, label=\"SHOT ON POST 1H\")\n",
    "\n",
    "if \"ShotOnPost\" in iter(df_h2H['result']):\n",
    "    pitch.scatter(df_h2H[df_h2H['result']=='ShotOnPost']['X'],df_h2H[df_h2H['result']=='ShotOnPost']['Y'], \n",
    "              s=np.sqrt(df_h2H[df_h2H['result']=='ShotOnPost']['xG'])*150, marker='o', alpha=0.6,\n",
    "              edgecolors='black', facecolor='white', ax=ax, label=\"SHOT ON POST 2H\")\n",
    "    \n",
    "if \"BlockedShot\" in iter(df_h1H['result']):\n",
    "    pitch.scatter(df_h1H[df_h1H['result']=='BlockedShot']['X'],df_h1H[df_h1H['result']=='BlockedShot']['Y'], \n",
    "              s=np.sqrt(df_h1H[df_h1H['result']=='BlockedShot']['xG'])*150, marker='o', alpha=0.6,\n",
    "              edgecolors='black', facecolor='purple', ax=ax, label=\"BLOCKED SHOT 1H\")\n",
    "\n",
    "if \"BlockedShot\" in iter(df_h2H['result']):\n",
    "    pitch.scatter(df_h2H[df_h2H['result']=='BlockedShot']['X'],df_h2H[df_h2H['result']=='BlockedShot']['Y'], \n",
    "              s=np.sqrt(df_h2H[df_h2H['result']=='BlockedShot']['xG'])*150, marker='o', alpha=0.6,\n",
    "              edgecolors='black', facecolor='yellow', ax=ax, label=\"BLOCKED SHOT 2H\")\n",
    "\n",
    "if \"MissedShots\" in iter(df_h1H['result']):\n",
    "    pitch.scatter(df_h1H[df_h1H['result']=='MissedShots']['X'],df_h1H[df_h1H['result']=='MissedShots']['Y'], \n",
    "              s=np.sqrt(df_h1H[df_h1H['result']=='MissedShots']['xG'])*150, marker='d', alpha=0.6,\n",
    "              edgecolors='black', facecolor='purple', ax=ax, label=\"MISSED SHOT 1H\")\n",
    "\n",
    "if \"MissedShots\" in iter(df_h2H['result']):\n",
    "    pitch.scatter(df_h2H[df_h2H['result']=='MissedShots']['X'],df_h2H[df_h2H['result']=='MissedShots']['Y'], \n",
    "              s=np.sqrt(df_h2H[df_h2H['result']=='MissedShots']['xG'])*150, marker='d', alpha=0.6,\n",
    "              edgecolors='black', facecolor='yellow', ax=ax, label=\"MISSED SHOT 2H\")\n",
    "    \n",
    "if \"SavedShot\" in iter(df_h1H['result']):\n",
    "    pitch.scatter(df_h1H[df_h1H['result']=='SavedShot']['X'],df_h1H[df_h1H['result']=='SavedShot']['Y'], \n",
    "              s=np.sqrt(df_h1H[df_h1H['result']=='SavedShot']['xG'])*150, marker='h', alpha=0.6,\n",
    "              edgecolors='black', facecolor='purple', ax=ax, label=\"SAVED SHOT 1H\")\n",
    "\n",
    "if \"SavedShot\" in iter(df_h2H['result']):\n",
    "    pitch.scatter(df_h2H[df_h2H['result']=='SavedShot']['X'],df_h2H[df_h2H['result']=='SavedShot']['Y'], \n",
    "              s=np.sqrt(df_h2H[df_h2H['result']=='SavedShot']['xG'])*150, marker='h', alpha=0.6,\n",
    "              edgecolors='black', facecolor='yellow', ax=ax, label=\"SAVED SHOT 2H\")\n",
    "    \n",
    "\n",
    "\n",
    "#NOW PLOTTING THE GOALS\n",
    "if \"Goal\" in iter(df_fil['result']):\n",
    "    pitch.scatter(df_fil[df_fil['result']=='Goal']['X'],df_fil[df_fil['result']=='Goal']['Y'], \n",
    "              s=np.sqrt(df_fil[df_fil['result']=='Goal']['xG'])*150, marker='football', alpha=0.9,\n",
    "              edgecolors='black', facecolor='red', ax=ax, label=\"GOAL\")\n",
    "    hull=pitch.convexhull(df_fil[df_fil['result']=='Goal']['X'], df_fil[df_fil['result']=='Goal']['Y'])\n",
    "    pitch.polygon(hull, ax=ax, edgecolor='cornflowerblue', facecolor='cornflowerblue', alpha=0.3)\n",
    "\n",
    "if \"OwnGoal\" in iter(ogf['result']):\n",
    "    pitch.scatter(100-ogf[ogf['result']=='OwnGoal']['X']*100,100-ogf[df_fil['result']=='OwnGoal']['Y']*100, \n",
    "              s=np.sqrt(ogf[ogf['result']=='OwnGoal']['xG'])*150, marker='x', alpha=0.9,\n",
    "              edgecolors='red', facecolor='red', ax=ax, label=\"OWN GOAL FOR\")\n",
    "    #hull=pitch.convexhull(df_fil[df_fil['result']=='OwnGoal']['X'], df_fil[df_fil['result']=='OwnGoal']['Y'])\n",
    "    #pitch.polygon(hull, ax=ax, edgecolor='cornflowerblue', facecolor='cornflowerblue', alpha=0.3)\n",
    "#OWNGOALS\n",
    "#if len(df_hOG) >0:\n",
    " #   pitch.scatter(df_hOG[df_hOG['result']=='Goal']['X'],df_hOG[df_hOG['result']=='Goal']['Y'], \n",
    "  #            s=np.sqrt(df_hOG[df_hOG['result']=='Goal']['xG'])*150, marker='x', alpha=0.9,\n",
    "   #           edgecolors='black', facecolor='orange', ax=ax_opta1, label='AUTOGOL DEL RIVAL')\n",
    "\n",
    "\n",
    "# ADDING THE LEGEND\n",
    "ax.legend(loc='lower center', ncol=3)#.get_texts()[0].set_color(\"black\")\n",
    "\n",
    "ax.text(25,64,'GOALS : '+str(len(df_fil[df_fil['result']=='Goal'])+ int(own_goals_for)), weight='bold', size=15)\n",
    "ax.text(25,62.5,f\"xG : {round(sum(df_fil['xG']),2)}\", weight='bold', size=15)\n",
    "ax.text(25,61,'SHOTS : '+str(len(df_fil)), weight='bold', size=15)\n",
    "ax.text(75, 61, f'{team_for_foto}\\nALL SHOTS\\nSEASON {torneo}', weight='bold', size=20)\n",
    "\n",
    "# Use a direct file path instead of urlopen for local files\n",
    "image_path = foto_path\n",
    "\n",
    "# Check if the file exists before trying to open it\n",
    "if os.path.exists(image_path):\n",
    "    image = Image.open(image_path)\n",
    "    ax_image = add_image(image, fig, left=0.07, bottom=0.245, width=0.2, height=0.2)\n",
    "else:\n",
    "    print(f\"Warning: Image file not found at {image_path}\")\n",
    "    # Optionally continue without the image\n",
    "\n",
    "\n",
    "pitch.draw(ax=ax)\n",
    "\n",
    "# ADDING A FOOTER\n",
    "ax.text(97,57,'Dataviz: Enrique Adolfo López Magallón\\nData: Understat.com.')# Comparison with <forwards>'+\n",
    " #       ' with more than '+str(no_90s)+' 90s('+str(no_90s*90)+' minutes).',\n",
    "  #      size=12, highlight_textprops=[{'color':'#EF8804'}], weight = 'bold')\n",
    "\n",
    "\n",
    "#EXPORT TO IMG\n",
    "\n",
    "plt.savefig(f'{club}_shots.png',dpi=300,facecolor=background)"
   ]
  },
  {
   "cell_type": "code",
   "execution_count": 58,
   "id": "dac7c893-fe47-4f53-a0d9-72085e8534f7",
   "metadata": {
    "scrolled": true
   },
   "outputs": [],
   "source": [
    "shots_grouped=df_fil.groupby('minute').size()"
   ]
  },
  {
   "cell_type": "code",
   "execution_count": 59,
   "id": "e0ed3013-7b9a-4441-b3dc-5f755e991113",
   "metadata": {},
   "outputs": [
    {
     "data": {
      "application/vnd.microsoft.datawrangler.viewer.v0+json": {
       "columns": [
        {
         "name": "minute",
         "rawType": "int64",
         "type": "integer"
        },
        {
         "name": "0",
         "rawType": "int64",
         "type": "integer"
        }
       ],
       "ref": "f9aae2eb-ae3d-4c2b-ad0b-251f4cf77cc7",
       "rows": [
        [
         "0",
         "1"
        ],
        [
         "1",
         "1"
        ],
        [
         "3",
         "1"
        ],
        [
         "4",
         "2"
        ],
        [
         "9",
         "1"
        ],
        [
         "10",
         "1"
        ],
        [
         "13",
         "1"
        ],
        [
         "15",
         "2"
        ],
        [
         "19",
         "1"
        ],
        [
         "20",
         "1"
        ],
        [
         "21",
         "1"
        ],
        [
         "22",
         "5"
        ],
        [
         "23",
         "2"
        ],
        [
         "24",
         "1"
        ],
        [
         "26",
         "2"
        ],
        [
         "27",
         "1"
        ],
        [
         "30",
         "1"
        ],
        [
         "32",
         "2"
        ],
        [
         "33",
         "3"
        ],
        [
         "35",
         "2"
        ],
        [
         "36",
         "2"
        ],
        [
         "38",
         "3"
        ],
        [
         "39",
         "2"
        ],
        [
         "41",
         "2"
        ],
        [
         "43",
         "2"
        ],
        [
         "46",
         "4"
        ],
        [
         "47",
         "3"
        ],
        [
         "48",
         "1"
        ],
        [
         "50",
         "3"
        ],
        [
         "52",
         "2"
        ],
        [
         "54",
         "1"
        ],
        [
         "55",
         "2"
        ],
        [
         "57",
         "1"
        ],
        [
         "58",
         "1"
        ],
        [
         "59",
         "1"
        ],
        [
         "61",
         "2"
        ],
        [
         "62",
         "1"
        ],
        [
         "63",
         "1"
        ],
        [
         "64",
         "3"
        ],
        [
         "66",
         "2"
        ],
        [
         "67",
         "2"
        ],
        [
         "69",
         "1"
        ],
        [
         "73",
         "1"
        ],
        [
         "74",
         "1"
        ],
        [
         "76",
         "1"
        ],
        [
         "77",
         "2"
        ],
        [
         "78",
         "1"
        ],
        [
         "79",
         "1"
        ],
        [
         "80",
         "1"
        ],
        [
         "81",
         "1"
        ]
       ],
       "shape": {
        "columns": 1,
        "rows": 63
       }
      },
      "text/plain": [
       "minute\n",
       "0     1\n",
       "1     1\n",
       "3     1\n",
       "4     2\n",
       "9     1\n",
       "     ..\n",
       "92    1\n",
       "93    1\n",
       "94    1\n",
       "95    2\n",
       "97    1\n",
       "Length: 63, dtype: int64"
      ]
     },
     "execution_count": 59,
     "metadata": {},
     "output_type": "execute_result"
    }
   ],
   "source": [
    "shots_grouped\n"
   ]
  },
  {
   "cell_type": "code",
   "execution_count": 60,
   "id": "cf72bf4b-cb24-48d1-94d8-1e5b54634980",
   "metadata": {},
   "outputs": [
    {
     "data": {
      "text/plain": [
       "108"
      ]
     },
     "execution_count": 60,
     "metadata": {},
     "output_type": "execute_result"
    }
   ],
   "source": [
    "shots_grouped.sum()"
   ]
  },
  {
   "cell_type": "code",
   "execution_count": 61,
   "id": "1344d90a-4e1c-4385-ab7e-a8f1956e975b",
   "metadata": {},
   "outputs": [
    {
     "data": {
      "text/plain": [
       "108"
      ]
     },
     "execution_count": 61,
     "metadata": {},
     "output_type": "execute_result"
    }
   ],
   "source": [
    "len(df_fil)"
   ]
  },
  {
   "cell_type": "code",
   "execution_count": 62,
   "id": "888fffe9-b84a-4847-a0a0-a2848394e4f3",
   "metadata": {},
   "outputs": [
    {
     "name": "stdout",
     "output_type": "stream",
     "text": [
      "Using CUDA acceleration for rendering\n"
     ]
    }
   ],
   "source": [
    "def is_cuda_available_for_ffmpeg():\n",
    "    try:\n",
    "        # Check if FFmpeg is installed with CUDA support\n",
    "        result = subprocess.run(\n",
    "            ['ffmpeg', '-hide_banner', '-encoders'],\n",
    "            capture_output=True, text=True, check=True\n",
    "           )\n",
    "        return 'h264_qsv' in result.stdout\n",
    "    except Exception:\n",
    "        return False\n",
    "   \n",
    "   # Use CUDA acceleration if available, otherwise fall back to CPU\n",
    "if is_cuda_available_for_ffmpeg():\n",
    "    codec = 'h264_qsv'\n",
    "    extra_args = ['-hwaccel', 'cuda', '-hwaccel_output_format', 'cuda', '-preset', 'fast']\n",
    "    print(\"Using CUDA acceleration for rendering\")\n",
    "else:\n",
    "    codec = 'h264'\n",
    "    extra_args = ['-preset', 'medium']\n",
    "    print(\"CUDA acceleration not available, using CPU rendering\")\n",
    "   "
   ]
  },
  {
   "cell_type": "code",
   "execution_count": 63,
   "id": "6e6267c6-57ff-4d78-a4ab-d0245d230f90",
   "metadata": {},
   "outputs": [
    {
     "data": {
      "text/plain": [
       "97"
      ]
     },
     "execution_count": 63,
     "metadata": {},
     "output_type": "execute_result"
    }
   ],
   "source": [
    "df_fil['minute'].max()"
   ]
  },
  {
   "cell_type": "code",
   "execution_count": 64,
   "id": "85b25ed9-9bad-4221-bb9f-7018cc2923f1",
   "metadata": {},
   "outputs": [
    {
     "name": "stdout",
     "output_type": "stream",
     "text": [
      "Creating animation with 2080 frames\n"
     ]
    },
    {
     "data": {
      "image/png": "[encoded data removed]",
      "text/plain": [
       "<Figure size 1200x800 with 1 Axes>"
      ]
     },
     "metadata": {},
     "output_type": "display_data"
    },
    {
     "data": {
      "image/png": "[encoded data removed]",
      "text/plain": [
       "<Figure size 1200x800 with 1 Axes>"
      ]
     },
     "metadata": {},
     "output_type": "display_data"
    },
    {
     "name": "stdout",
     "output_type": "stream",
     "text": [
      "Available animation writers: ['pillow', 'ffmpeg', 'ffmpeg_file', 'html']\n",
      "Saving animation...\n",
      "Animation saved successfully!\n"
     ]
    }
   ],
   "source": [
    "# Function to prepare a background image that won't interfere with visualization\n",
    "def prepare_background_image(image_path, target_width, target_height, blur_amount=3, brightness=1.3, saturation=0.7):\n",
    "    \"\"\"\n",
    "    Prepare a background image by:\n",
    "    1. Resizing to match the target dimensions\n",
    "    2. Applying blur for subtlety\n",
    "    3. Adjusting brightness and saturation\n",
    "    \n",
    "    Parameters:\n",
    "    - image_path: Path to the background image\n",
    "    - target_width, target_height: Desired dimensions\n",
    "    - blur_amount: How much to blur (higher = more blur)\n",
    "    - brightness: Brightness factor (>1 = brighter, <1 = darker)\n",
    "    - saturation: Saturation factor (>1 = more saturated, <1 = less saturated)\n",
    "    \n",
    "    Returns:\n",
    "    - Processed image as numpy array\n",
    "    \"\"\"\n",
    "    try:\n",
    "        # Open the image\n",
    "        img = Image.open(image_path)\n",
    "        \n",
    "        # Convert to RGB mode if it's not already\n",
    "        if img.mode != 'RGB':\n",
    "            img = img.convert('RGB')\n",
    "        \n",
    "        # Resize to match target dimensions\n",
    "        img = img.resize((target_width, target_height), Image.LANCZOS)\n",
    "        \n",
    "        # Apply blur for subtlety\n",
    "        img = img.filter(ImageFilter.GaussianBlur(blur_amount))\n",
    "        \n",
    "        # Adjust brightness\n",
    "        enhancer = ImageEnhance.Brightness(img)\n",
    "        img = enhancer.enhance(brightness)\n",
    "        \n",
    "        # Adjust saturation\n",
    "        enhancer = ImageEnhance.Color(img)\n",
    "        img = enhancer.enhance(saturation)\n",
    "        \n",
    "        # Convert to numpy array for matplotlib\n",
    "        return np.array(img)\n",
    "    \n",
    "    except Exception as e:\n",
    "        print(f\"Error processing background image: {e}\")\n",
    "        # Return a default subtle gradient background\n",
    "        return create_gradient_background(target_width, target_height)\n",
    "\n",
    "# Create a gradient background as fallback\n",
    "def create_gradient_background(width, height, color1=(245, 245, 250), color2=(225, 225, 240)):\n",
    "    \"\"\"Create a subtle gradient background\"\"\"\n",
    "    background = np.zeros((height, width, 3), dtype=np.uint8)\n",
    "    for y in range(height):\n",
    "        ratio = y / height\n",
    "        for c in range(3):\n",
    "            background[y, :, c] = color1[c] * (1 - ratio) + color2[c] * ratio\n",
    "    return background\n",
    "\n",
    "# Set up figure dimensions in inches and DPI for high resolution\n",
    "fig_width, fig_height = 12, 8\n",
    "dpi = 100\n",
    "\n",
    "# Calculate pixel dimensions\n",
    "pixel_width, pixel_height = int(fig_width * dpi), int(fig_height * dpi)\n",
    "\n",
    "# Define the path to your background image or use the gradient\n",
    "#foto_path = \"your_background_image.jpg\"  # Replace with your actual image path\n",
    "\n",
    "# Try to load the background image, fall back to gradient if there's an issue\n",
    "try:\n",
    "    background_img = prepare_background_image(\n",
    "        foto_path,\n",
    "        pixel_width, \n",
    "        pixel_height,\n",
    "        blur_amount=5,\n",
    "        brightness=1.2,\n",
    "        saturation=0.6\n",
    "    )\n",
    "except Exception as e:\n",
    "    print(f\"Falling back to gradient background: {e}\")\n",
    "    background_img = create_gradient_background(pixel_width, pixel_height)\n",
    "\n",
    "# Create figure and axis\n",
    "fig, ax = plt.subplots(figsize=(fig_width, fig_height), dpi=dpi)\n",
    "\n",
    "\n",
    "def update(frame):\n",
    "    ax.clear()\n",
    "    df_fil = df_understat\n",
    "    # Calculate which minute we're showing and how far along the growth we are\n",
    "    current_minute = int(frame) + 1\n",
    "    growth_fraction = frame - int(frame)  # Decimal part represents growth progress\n",
    "    \n",
    "    # Count shots per minute for all data\n",
    "    shot_counts = df_fil.groupby('minute').size()\n",
    "    minutes = list(range(0, int(max_minute) + 1))\n",
    "    \n",
    "    # Create arrays for the current state of the animation\n",
    "    current_counts = []\n",
    "    for minute in minutes:\n",
    "        if minute < current_minute:\n",
    "            # Previous minutes are fully grown\n",
    "            count = shot_counts.get(minute, 0)\n",
    "        elif minute == current_minute:\n",
    "            # Current minute is growing\n",
    "            count = shot_counts.get(minute, 0) * growth_fraction\n",
    "        else:\n",
    "            # Future minutes are not shown yet\n",
    "            count = 0\n",
    "        current_counts.append(count)\n",
    "    \n",
    "    # Calculate total shots\n",
    "    if frame >= int(max_minute):\n",
    "        total_shots = sum(shot_counts.get(min, 0) for min in range(0, max_minute + 1))\n",
    "    else:\n",
    "        total_shots = sum(shot_counts.get(min, 0) for min in range(0, current_minute))\n",
    "        if growth_fraction > 0:\n",
    "            total_shots += shot_counts.get(current_minute, 0) * growth_fraction\n",
    "    \n",
    "    # Add background image with careful alpha tuning\n",
    "    ax.imshow(background_img, aspect='auto', \n",
    "              extent=[0, max_minute + 1, 0, shot_counts.max() + 1], \n",
    "              alpha=0.15,  # Very subtle background\n",
    "              zorder=0)    # Ensure it's behind all other elements\n",
    "    \n",
    "    # Add a semi-transparent overlay to improve readability\n",
    "    ax.add_patch(plt.Rectangle((0, 0), max_minute + 1, shot_counts.max() + 1, \n",
    "                              color='white', alpha=0.3, zorder=1))\n",
    "    \n",
    "    # Create stem plot with magenta lines and orange dots (higher zorder to be on top)\n",
    "    markerline, stemlines, baseline = ax.stem(minutes, current_counts, \n",
    "                                             linefmt='m-', markerfmt='o', basefmt='k-')\n",
    "    plt.setp(markerline, markersize=8, color='orange', zorder=3)  # Orange dots\n",
    "    plt.setp(stemlines, linewidth=2, color='magenta', zorder=2)   # Magenta lines\n",
    "    plt.setp(baseline, visible=False)  # Hide baseline for cleaner look\n",
    "    \n",
    "    # Set axis limits and labels\n",
    "    ax.set_xlim(0, max_minute + 1)\n",
    "    ax.set_ylim(0, shot_counts.max() + 1)\n",
    "    ax.set_xlabel('Minutes', weight='bold', size=12)\n",
    "    ax.set_ylabel('Number of Shots', weight='bold', size=12)\n",
    "    \n",
    "    # Style the grid for better visibility over background\n",
    "    ax.grid(True, linestyle='--', alpha=0.6, color='gray', zorder=1)\n",
    "\n",
    "    # Add title and information with enhanced visibility\n",
    "    current_display_minute = current_minute if growth_fraction == 0 else f\"{current_minute-1}→{current_minute}\"\n",
    "    ax.set_title(f'{club} Shot Count per Minute (Minute: {current_display_minute})', \n",
    "                weight='bold', size=15)\n",
    "    \n",
    "    # Add text with semi-transparent background for better readability\n",
    "    text_box_props = dict(\n",
    "        boxstyle='round,pad=0.5',\n",
    "        facecolor='white',\n",
    "        alpha=0.7,\n",
    "        edgecolor='gray'\n",
    "    )\n",
    "    \n",
    "    ax.text(max_minute * 0.7, ax.get_ylim()[1] * 0.9, \n",
    "            f'Total Shots: {int(total_shots)}', \n",
    "            weight='bold', size=15, \n",
    "            bbox=text_box_props,\n",
    "            zorder=4)\n",
    "    \n",
    "    ax.text(max_minute * 0.7, ax.get_ylim()[1] * 0.1, \n",
    "            'Copyright: Enrique Adolfo López Magallón\\nData: Understat.com.',\n",
    "            bbox=text_box_props,\n",
    "            zorder=4)\n",
    "    \n",
    "    # Ensure proper layout\n",
    "    fig.tight_layout()\n",
    "    \n",
    "    # Force drawing update\n",
    "    fig.canvas.draw()\n",
    "    \n",
    "    return fig, ax\n",
    "\n",
    "# Create figure and axis with a complementary background color\n",
    "fig, ax = plt.subplots(figsize=(fig_width, fig_height), dpi=dpi, \n",
    "                      facecolor='#f8f8fa')  # Very light blue-gray background\n",
    "\n",
    "# Create animation with frames for growing each minute\n",
    "\n",
    "# First define max_minute\n",
    "max_minute = df_fil['minute'].max()\n",
    "# Define frames_per_minute before using it\n",
    "frames_per_minute = 20  # Set this to your desired value (typically same as fps)\n",
    "\n",
    "# Then use it to create l_frames\n",
    "all_frames = np.linspace(0, max_minute, int(max_minute) * frames_per_minute)\n",
    "\n",
    "fps = 20  # Based on your writer fps setting\n",
    "freeze_frames = int(7 * fps)  # 7 seconds worth of frames\n",
    "last_frame = int(max_minute)  # The last frame value\n",
    "freeze_extension = [last_frame] * freeze_frames\n",
    "all_frames = np.append(all_frames, freeze_extension)  # Note: all_frames needs to be defined before this line\n",
    "            \n",
    "print(f\"Creating animation with {len(all_frames)} frames\")\n",
    "\n",
    "# Try render animation with CUDA acceleration if available\n",
    "\n",
    "\n",
    "ani = animation.FuncAnimation(\n",
    "    fig, \n",
    "    update, \n",
    "    frames=all_frames,\n",
    "    interval=50,  # Faster animation (50ms per frame)\n",
    "    blit=False,\n",
    "    repeat=False\n",
    ")\n",
    "\n",
    "# Show the animation\n",
    "plt.show()\n",
    "\n",
    "# The beginning part of your code remains the same\n",
    "\n",
    "# Save the animation\n",
    "available_writers = animation.writers.list()\n",
    "print(f\"Available animation writers: {available_writers}\")\n",
    "\n",
    "if 'ffmpeg' in available_writers:\n",
    "    # Configure FFmpeg with more compatible settings\n",
    "    ffmpeg_writer = animation.FFMpegWriter(  # Make sure to use animation.FFMpegWriter\n",
    "        fps=20,  # Frames per second\n",
    "        metadata=dict(artist='Enrique Adolfo Lopez Magallon'),\n",
    "        bitrate=5000,  # Higher bitrate for better quality\n",
    "        # More compatible encoding options\n",
    "        codec='h264',  # Standard H.264 encoder instead of hardware-specific one\n",
    "        extra_args=[\n",
    "            '-preset', 'medium',  # Balanced preset\n",
    "            '-crf', '23',  # Reasonable quality (lower = better quality)\n",
    "            '-pix_fmt', 'yuv420p'  # Pixel format for better compatibility\n",
    "            # Removed hardware acceleration options that were causing issues\n",
    "        ]\n",
    "    )\n",
    "\n",
    "    # Save the animation with standard settings\n",
    "    print(\"Saving animation...\")\n",
    "    ani.save(f'{club}_shots_animation_cuda.mp4', writer=ffmpeg_writer, dpi=300)\n",
    "    print(\"Animation saved successfully!\")\n",
    "elif 'pillow' in available_writers:\n",
    "    writer = animation.PillowWriter(fps=20)\n",
    "    ani.save(f'{club}_shot_counts_stem_animation.gif', writer=writer, dpi=150)\n",
    "else:\n",
    "    print(\"No suitable writer found.\")"
   ]
  },
  {
   "cell_type": "code",
   "execution_count": null,
   "id": "c6c4f47d-f707-48d7-a9f8-d50d1e194874",
   "metadata": {},
   "outputs": [],
   "source": []
  }
 ],
 "metadata": {
  "kernelspec": {
   "display_name": "base",
   "language": "python",
   "name": "python3"
  },
  "language_info": {
   "codemirror_mode": {
    "name": "ipython",
    "version": 3
   },
   "file_extension": ".py",
   "mimetype": "text/x-python",
   "name": "python",
   "nbconvert_exporter": "python",
   "pygments_lexer": "ipython3",
   "version": "3.11.11"
  }
 },
 "nbformat": 4,
 "nbformat_minor": 5
}
