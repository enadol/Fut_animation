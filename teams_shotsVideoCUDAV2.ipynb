{
 "cells": [
  {
   "cell_type": "markdown",
   "id": "0379acc5",
   "metadata": {},
   "source": [
    "IMPORTING ALL NECESSARY PACKAGES. MOST OF THEM ARE ALREADY IN THE ANACONDA DISTRIBUTION"
   ]
  },
  {
   "cell_type": "code",
   "execution_count": 2,
   "id": "8ad26af3",
   "metadata": {},
   "outputs": [],
   "source": [
    "import asyncio\n",
    "import nest_asyncio\n",
    "import aiohttp\n",
    "from understat import Understat\n",
    "import requests\n",
    "import codecs\n",
    "from bs4 import BeautifulSoup as soup\n",
    "import json\n",
    "import pandas as pd\n",
    "import matplotlib.pyplot as plt\n",
    "import numpy as np\n",
    "import matplotlib as mpl\n",
    "import matplotlib.animation as animation"
   ]
  },
  {
   "cell_type": "code",
   "execution_count": 3,
   "id": "7529fd65-5242-4b7d-9669-93d4b91e02a3",
   "metadata": {},
   "outputs": [],
   "source": [
    "club=\"Bayer Leverkusen\""
   ]
  },
  {
   "cell_type": "code",
   "execution_count": 4,
   "id": "2c58c5be",
   "metadata": {},
   "outputs": [],
   "source": [
    "with open('club_name.txt', 'w') as f:\n",
    "    f.write(club)\n",
    "    f.close"
   ]
  },
  {
   "cell_type": "code",
   "execution_count": 5,
   "id": "dc3fab7d-5984-4b6f-81b6-957eb7949895",
   "metadata": {},
   "outputs": [
    {
     "data": {
      "text/plain": [
       "'Bayer Leverkusen'"
      ]
     },
     "execution_count": 5,
     "metadata": {},
     "output_type": "execute_result"
    }
   ],
   "source": [
    "team_for_foto=\"\"\n",
    "if club == \"RasenBallsport Leipzig\":\n",
    "    team_for_foto=\"RB Leipzig\"\n",
    "elif club == \"FC Cologne\":\n",
    "    team_for_foto=\"FC Köln\"\n",
    "elif club== \"Augsburg\":\n",
    "    team_for_foto=\"FC Augsburg\"\n",
    "elif club== \"Borussia M.Gladbach\":\n",
    "    team_for_foto=\"Borussia Mönchengladbach\"\n",
    "else:\n",
    "    team_for_foto=club\n",
    "team_for_foto"
   ]
  },
  {
   "cell_type": "code",
   "execution_count": 6,
   "id": "615c7ba6-846f-487c-adc9-16bcc2397405",
   "metadata": {},
   "outputs": [],
   "source": [
    "torneo=\"2025-2026\""
   ]
  },
  {
   "cell_type": "code",
   "execution_count": 7,
   "id": "b43f0f98",
   "metadata": {},
   "outputs": [],
   "source": [
    "foto_path=f'images/{team_for_foto}.png'"
   ]
  },
  {
   "cell_type": "code",
   "execution_count": 8,
   "id": "92185915",
   "metadata": {},
   "outputs": [
    {
     "name": "stdout",
     "output_type": "stream",
     "text": [
      "Bayer Leverkusen\n",
      "[\n",
      "    {\n",
      "        \"id\": \"30226\",\n",
      "        \"isResult\": true,\n",
      "        \"side\": \"h\",\n",
      "        \"h\": {\n",
      "            \"id\": \"119\",\n",
      "            \"title\": \"Bayer Leverkusen\",\n",
      "            \"short_title\": \"LEV\"\n",
      "        },\n",
      "        \"a\": {\n",
      "            \"id\": \"120\",\n",
      "            \"title\": \"Hoffenheim\",\n",
      "            \"short_title\": \"HOF\"\n",
      "        },\n",
      "        \"goals\": {\n",
      "            \"h\": \"1\",\n",
      "            \"a\": \"2\"\n",
      "        },\n",
      "        \"xG\": {\n",
      "            \"h\": \"1.05253\",\n",
      "            \"a\": \"0.505193\"\n",
      "        },\n",
      "        \"datetime\": \"2025-08-23 13:30:00\",\n",
      "        \"forecast\": {\n",
      "            \"w\": 0.48645416076388465,\n",
      "            \"d\": 0.33840224584945294,\n",
      "            \"l\": 0.17514359338604676\n",
      "        },\n",
      "        \"result\": \"l\"\n",
      "    },\n",
      "    {\n",
      "        \"id\": \"30236\",\n",
      "        \"isResult\": true,\n",
      "        \"side\": \"a\",\n",
      "        \"h\": {\n",
      "            \"id\": \"123\",\n",
      "            \"title\": \"Werder Bremen\",\n",
      "            \"short_title\": \"WER\"\n",
      "        },\n",
      "        \"a\": {\n",
      "            \"id\": \"119\",\n",
      "            \"title\": \"Bayer Leverkusen\",\n",
      "            \"short_title\": \"LEV\"\n",
      "        },\n",
      "        \"goals\": {\n",
      "            \"h\": \"3\",\n",
      "            \"a\": \"3\"\n",
      "        },\n",
      "        \"xG\": {\n",
      "            \"h\": \"2.32676\",\n",
      "            \"a\": \"2.03733\"\n",
      "        },\n",
      "        \"datetime\": \"2025-08-30 13:30:00\",\n",
      "        \"forecast\": {\n",
      "            \"w\": 0.4555811174215874,\n",
      "            \"d\": 0.19578251609455083,\n",
      "            \"l\": 0.3486363338918292\n",
      "        },\n",
      "        \"result\": \"d\"\n",
      "    },\n",
      "    {\n",
      "        \"id\": \"30242\",\n",
      "        \"isResult\": true,\n",
      "        \"side\": \"h\",\n",
      "        \"h\": {\n",
      "            \"id\": \"119\",\n",
      "            \"title\": \"Bayer Leverkusen\",\n",
      "            \"short_title\": \"LEV\"\n",
      "        },\n",
      "        \"a\": {\n",
      "            \"id\": \"132\",\n",
      "            \"title\": \"Eintracht Frankfurt\",\n",
      "            \"short_title\": \"EIN\"\n",
      "        },\n",
      "        \"goals\": {\n",
      "            \"h\": \"3\",\n",
      "            \"a\": \"1\"\n",
      "        },\n",
      "        \"xG\": {\n",
      "            \"h\": \"2.31465\",\n",
      "            \"a\": \"0.791863\"\n",
      "        },\n",
      "        \"datetime\": \"2025-09-12 18:30:00\",\n",
      "        \"forecast\": {\n",
      "            \"w\": 0.7157124645478203,\n",
      "            \"d\": 0.17298044628463086,\n",
      "            \"l\": 0.11130706330314015\n",
      "        },\n",
      "        \"result\": \"w\"\n",
      "    },\n",
      "    {\n",
      "        \"id\": \"30258\",\n",
      "        \"isResult\": true,\n",
      "        \"side\": \"h\",\n",
      "        \"h\": {\n",
      "            \"id\": \"119\",\n",
      "            \"title\": \"Bayer Leverkusen\",\n",
      "            \"short_title\": \"LEV\"\n",
      "        },\n",
      "        \"a\": {\n",
      "            \"id\": \"130\",\n",
      "            \"title\": \"Borussia M.Gladbach\",\n",
      "            \"short_title\": \"BMG\"\n",
      "        },\n",
      "        \"goals\": {\n",
      "            \"h\": \"1\",\n",
      "            \"a\": \"1\"\n",
      "        },\n",
      "        \"xG\": {\n",
      "            \"h\": \"1.9461\",\n",
      "            \"a\": \"1.29876\"\n",
      "        },\n",
      "        \"datetime\": \"2025-09-21 15:30:00\",\n",
      "        \"forecast\": {\n",
      "            \"w\": 0.5251748877812907,\n",
      "            \"d\": 0.22026812066373078,\n",
      "            \"l\": 0.254556988841769\n",
      "        },\n",
      "        \"result\": \"d\"\n",
      "    },\n",
      "    {\n",
      "        \"id\": \"30263\",\n",
      "        \"isResult\": true,\n",
      "        \"side\": \"a\",\n",
      "        \"h\": {\n",
      "            \"id\": \"288\",\n",
      "            \"title\": \"St. Pauli\",\n",
      "            \"short_title\": \"SPA\"\n",
      "        },\n",
      "        \"a\": {\n",
      "            \"id\": \"119\",\n",
      "            \"title\": \"Bayer Leverkusen\",\n",
      "            \"short_title\": \"LEV\"\n",
      "        },\n",
      "        \"goals\": {\n",
      "            \"h\": \"1\",\n",
      "            \"a\": \"2\"\n",
      "        },\n",
      "        \"xG\": {\n",
      "            \"h\": \"0.813325\",\n",
      "            \"a\": \"1.28912\"\n",
      "        },\n",
      "        \"datetime\": \"2025-09-27 13:30:00\",\n",
      "        \"forecast\": {\n",
      "            \"w\": 0.23526439477351702,\n",
      "            \"d\": 0.28798635144973367,\n",
      "            \"l\": 0.4767492537663978\n",
      "        },\n",
      "        \"result\": \"w\"\n",
      "    },\n",
      "    {\n",
      "        \"id\": \"30269\",\n",
      "        \"isResult\": true,\n",
      "        \"side\": \"h\",\n",
      "        \"h\": {\n",
      "            \"id\": \"119\",\n",
      "            \"title\": \"Bayer Leverkusen\",\n",
      "            \"short_title\": \"LEV\"\n",
      "        },\n",
      "        \"a\": {\n",
      "            \"id\": \"240\",\n",
      "            \"title\": \"Union Berlin\",\n",
      "            \"short_title\": \"UNI\"\n",
      "        },\n",
      "        \"goals\": {\n",
      "            \"h\": \"2\",\n",
      "            \"a\": \"0\"\n",
      "        },\n",
      "        \"xG\": {\n",
      "            \"h\": \"3.35673\",\n",
      "            \"a\": \"1.19684\"\n",
      "        },\n",
      "        \"datetime\": \"2025-10-04 13:30:00\",\n",
      "        \"forecast\": {\n",
      "            \"w\": 0.7839428372467179,\n",
      "            \"d\": 0.11990426608515106,\n",
      "            \"l\": 0.09615029645309106\n",
      "        },\n",
      "        \"result\": \"w\"\n",
      "    },\n",
      "    {\n",
      "        \"id\": \"30282\",\n",
      "        \"isResult\": true,\n",
      "        \"side\": \"a\",\n",
      "        \"h\": {\n",
      "            \"id\": \"125\",\n",
      "            \"title\": \"Mainz 05\",\n",
      "            \"short_title\": \"MAI\"\n",
      "        },\n",
      "        \"a\": {\n",
      "            \"id\": \"119\",\n",
      "            \"title\": \"Bayer Leverkusen\",\n",
      "            \"short_title\": \"LEV\"\n",
      "        },\n",
      "        \"goals\": {\n",
      "            \"h\": \"3\",\n",
      "            \"a\": \"4\"\n",
      "        },\n",
      "        \"xG\": {\n",
      "            \"h\": \"1.62978\",\n",
      "            \"a\": \"4.43462\"\n",
      "        },\n",
      "        \"datetime\": \"2025-10-18 13:30:00\",\n",
      "        \"forecast\": {\n",
      "            \"w\": 0.08166438246896654,\n",
      "            \"d\": 0.08878432705751403,\n",
      "            \"l\": 0.8294884902413999\n",
      "        },\n",
      "        \"result\": \"w\"\n",
      "    }\n",
      "]\n"
     ]
    }
   ],
   "source": [
    "%run -i undesstatteams.py"
   ]
  },
  {
   "cell_type": "code",
   "execution_count": 9,
   "id": "3cd3771b-69e8-4ae2-853d-a02e218b70d6",
   "metadata": {},
   "outputs": [],
   "source": [
    "# Get csv from D://understatteams.py !!!!!\n",
    "df_understat=pd.read_csv(f'{club}_seasons_shots.csv')"
   ]
  },
  {
   "cell_type": "code",
   "execution_count": 10,
   "id": "a0cc49b4-b98e-4b9a-9dd5-7ed7161a1e7d",
   "metadata": {
    "scrolled": true
   },
   "outputs": [
    {
     "data": {
      "text/html": [
       "<div>\n",
       "<style scoped>\n",
       "    .dataframe tbody tr th:only-of-type {\n",
       "        vertical-align: middle;\n",
       "    }\n",
       "\n",
       "    .dataframe tbody tr th {\n",
       "        vertical-align: top;\n",
       "    }\n",
       "\n",
       "    .dataframe thead th {\n",
       "        text-align: right;\n",
       "    }\n",
       "</style>\n",
       "<table border=\"1\" class=\"dataframe\">\n",
       "  <thead>\n",
       "    <tr style=\"text-align: right;\">\n",
       "      <th></th>\n",
       "      <th>minute</th>\n",
       "      <th>X</th>\n",
       "      <th>Y</th>\n",
       "      <th>player</th>\n",
       "      <th>shotType</th>\n",
       "      <th>result</th>\n",
       "      <th>h_team</th>\n",
       "      <th>a_team</th>\n",
       "      <th>player_assisted</th>\n",
       "      <th>xG</th>\n",
       "    </tr>\n",
       "  </thead>\n",
       "  <tbody>\n",
       "    <tr>\n",
       "      <th>0</th>\n",
       "      <td>5</td>\n",
       "      <td>0.915</td>\n",
       "      <td>0.517</td>\n",
       "      <td>Jarell Quansah</td>\n",
       "      <td>Head</td>\n",
       "      <td>Goal</td>\n",
       "      <td>Bayer Leverkusen</td>\n",
       "      <td>Hoffenheim</td>\n",
       "      <td>Álex Grimaldo</td>\n",
       "      <td>0.356684</td>\n",
       "    </tr>\n",
       "    <tr>\n",
       "      <th>1</th>\n",
       "      <td>28</td>\n",
       "      <td>0.732</td>\n",
       "      <td>0.748</td>\n",
       "      <td>Álex Grimaldo</td>\n",
       "      <td>LeftFoot</td>\n",
       "      <td>BlockedShot</td>\n",
       "      <td>Bayer Leverkusen</td>\n",
       "      <td>Hoffenheim</td>\n",
       "      <td>Nathan Tella</td>\n",
       "      <td>0.012993</td>\n",
       "    </tr>\n",
       "    <tr>\n",
       "      <th>2</th>\n",
       "      <td>33</td>\n",
       "      <td>0.722</td>\n",
       "      <td>0.473</td>\n",
       "      <td>Nathan Tella</td>\n",
       "      <td>RightFoot</td>\n",
       "      <td>BlockedShot</td>\n",
       "      <td>Bayer Leverkusen</td>\n",
       "      <td>Hoffenheim</td>\n",
       "      <td>Edmond Tapsoba</td>\n",
       "      <td>0.027548</td>\n",
       "    </tr>\n",
       "    <tr>\n",
       "      <th>3</th>\n",
       "      <td>42</td>\n",
       "      <td>0.965</td>\n",
       "      <td>0.466</td>\n",
       "      <td>Piero Hincapié</td>\n",
       "      <td>OtherBodyPart</td>\n",
       "      <td>SavedShot</td>\n",
       "      <td>Bayer Leverkusen</td>\n",
       "      <td>Hoffenheim</td>\n",
       "      <td>NaN</td>\n",
       "      <td>0.457647</td>\n",
       "    </tr>\n",
       "    <tr>\n",
       "      <th>4</th>\n",
       "      <td>59</td>\n",
       "      <td>0.745</td>\n",
       "      <td>0.377</td>\n",
       "      <td>Álex Grimaldo</td>\n",
       "      <td>LeftFoot</td>\n",
       "      <td>BlockedShot</td>\n",
       "      <td>Bayer Leverkusen</td>\n",
       "      <td>Hoffenheim</td>\n",
       "      <td>Nathan Tella</td>\n",
       "      <td>0.026897</td>\n",
       "    </tr>\n",
       "  </tbody>\n",
       "</table>\n",
       "</div>"
      ],
      "text/plain": [
       "   minute      X      Y          player       shotType       result  \\\n",
       "0       5  0.915  0.517  Jarell Quansah           Head         Goal   \n",
       "1      28  0.732  0.748   Álex Grimaldo       LeftFoot  BlockedShot   \n",
       "2      33  0.722  0.473    Nathan Tella      RightFoot  BlockedShot   \n",
       "3      42  0.965  0.466  Piero Hincapié  OtherBodyPart    SavedShot   \n",
       "4      59  0.745  0.377   Álex Grimaldo       LeftFoot  BlockedShot   \n",
       "\n",
       "             h_team      a_team player_assisted        xG  \n",
       "0  Bayer Leverkusen  Hoffenheim   Álex Grimaldo  0.356684  \n",
       "1  Bayer Leverkusen  Hoffenheim    Nathan Tella  0.012993  \n",
       "2  Bayer Leverkusen  Hoffenheim  Edmond Tapsoba  0.027548  \n",
       "3  Bayer Leverkusen  Hoffenheim             NaN  0.457647  \n",
       "4  Bayer Leverkusen  Hoffenheim    Nathan Tella  0.026897  "
      ]
     },
     "execution_count": 10,
     "metadata": {},
     "output_type": "execute_result"
    }
   ],
   "source": [
    "df_understat.head()"
   ]
  },
  {
   "cell_type": "code",
   "execution_count": 11,
   "id": "484c44f3",
   "metadata": {
    "scrolled": true
   },
   "outputs": [
    {
     "data": {
      "text/plain": [
       "0"
      ]
     },
     "execution_count": 11,
     "metadata": {},
     "output_type": "execute_result"
    }
   ],
   "source": [
    "own_goals_total=len(df_understat[df_understat['result']=='OwnGoal'])\n",
    "own_goals_total"
   ]
  },
  {
   "cell_type": "code",
   "execution_count": 12,
   "id": "ff36cc9d-7298-4213-836a-a24468753f5b",
   "metadata": {},
   "outputs": [
    {
     "data": {
      "text/html": [
       "<div>\n",
       "<style scoped>\n",
       "    .dataframe tbody tr th:only-of-type {\n",
       "        vertical-align: middle;\n",
       "    }\n",
       "\n",
       "    .dataframe tbody tr th {\n",
       "        vertical-align: top;\n",
       "    }\n",
       "\n",
       "    .dataframe thead th {\n",
       "        text-align: right;\n",
       "    }\n",
       "</style>\n",
       "<table border=\"1\" class=\"dataframe\">\n",
       "  <thead>\n",
       "    <tr style=\"text-align: right;\">\n",
       "      <th></th>\n",
       "      <th>minute</th>\n",
       "      <th>X</th>\n",
       "      <th>Y</th>\n",
       "      <th>player</th>\n",
       "      <th>shotType</th>\n",
       "      <th>result</th>\n",
       "      <th>h_team</th>\n",
       "      <th>a_team</th>\n",
       "      <th>player_assisted</th>\n",
       "      <th>xG</th>\n",
       "    </tr>\n",
       "  </thead>\n",
       "  <tbody>\n",
       "  </tbody>\n",
       "</table>\n",
       "</div>"
      ],
      "text/plain": [
       "Empty DataFrame\n",
       "Columns: [minute, X, Y, player, shotType, result, h_team, a_team, player_assisted, xG]\n",
       "Index: []"
      ]
     },
     "execution_count": 12,
     "metadata": {},
     "output_type": "execute_result"
    }
   ],
   "source": [
    "own_goals=df_understat[df_understat['result']=='OwnGoal']\n",
    "own_goals['xG']=0.5\n",
    "own_goals"
   ]
  },
  {
   "cell_type": "code",
   "execution_count": 13,
   "id": "9d0b6f1e-b303-479f-ab08-766241049505",
   "metadata": {
    "scrolled": true
   },
   "outputs": [],
   "source": [
    "async def main():\n",
    "    async with aiohttp.ClientSession() as session:\n",
    "        understat = Understat(session)\n",
    "        players = await understat.get_league_players(\n",
    "            \"bundesliga\",\n",
    "            2025,\n",
    "            team_title=club\n",
    "        )\n",
    "        squad=json.dumps(players, indent=4, ensure_ascii=False)\n",
    "    with codecs.open(f'{club}_squad.json', \"w\", \"utf-8\") as jsonfile:\n",
    "        jsonfile.write(squad)\n",
    "        #json.dumps(jamal_json, indent=4)\n",
    "        jsonfile.close() \n",
    "\n",
    "nest_asyncio.apply()\n",
    "loop = asyncio.get_event_loop()\n",
    "loop.run_until_complete(main())\n",
    "\n",
    "squad_df=pd.read_json(f'{club}_squad.json')"
   ]
  },
  {
   "cell_type": "code",
   "execution_count": 14,
   "id": "b3c365a7-f0df-4a33-9f72-bd663fd6c268",
   "metadata": {},
   "outputs": [
    {
     "data": {
      "text/plain": [
       "array(['Álex Grimaldo', 'Patrik Schick', 'Malik Tillman',\n",
       "       'Christian Kofane', 'Ernest Poku', 'Martin Terrier',\n",
       "       'Edmond Tapsoba', 'Jarell Quansah', 'Jonas Hofmann',\n",
       "       'Aleix García', 'Lucas Vázquez', 'Mark Flekken', 'Robert Andrich',\n",
       "       'Exequiel Palacios', 'Nathan Tella', 'Loic Bade', 'Piero Hincapié',\n",
       "       'Jeanuël Belocian', 'Ben Seghir', 'Ibrahim Maza', 'Arthur',\n",
       "       'Axel Tape', 'Claudio Echeverri', 'Ezequiél Fernández'],\n",
       "      dtype=object)"
      ]
     },
     "execution_count": 14,
     "metadata": {},
     "output_type": "execute_result"
    }
   ],
   "source": [
    "squad=squad_df['player_name'].unique()\n",
    "squad"
   ]
  },
  {
   "cell_type": "code",
   "execution_count": 15,
   "id": "1e8fabd2-26d3-447b-a0bc-9243d5cb7a34",
   "metadata": {
    "scrolled": true
   },
   "outputs": [
    {
     "data": {
      "text/plain": [
       "False"
      ]
     },
     "execution_count": 15,
     "metadata": {},
     "output_type": "execute_result"
    }
   ],
   "source": [
    "\"Paul Nebel\" in squad"
   ]
  },
  {
   "cell_type": "code",
   "execution_count": 16,
   "id": "8f69674f-d67b-4f74-9e79-5b20e821548c",
   "metadata": {},
   "outputs": [
    {
     "data": {
      "text/plain": [
       "0"
      ]
     },
     "execution_count": 16,
     "metadata": {},
     "output_type": "execute_result"
    }
   ],
   "source": [
    "own_goals_len=len(own_goals[~own_goals['player'].isin(squad)])\n",
    "own_goals_len"
   ]
  },
  {
   "cell_type": "code",
   "execution_count": 17,
   "id": "40c24147-b377-4aff-a7a7-56e9b4a620a4",
   "metadata": {},
   "outputs": [
    {
     "data": {
      "text/html": [
       "<div>\n",
       "<style scoped>\n",
       "    .dataframe tbody tr th:only-of-type {\n",
       "        vertical-align: middle;\n",
       "    }\n",
       "\n",
       "    .dataframe tbody tr th {\n",
       "        vertical-align: top;\n",
       "    }\n",
       "\n",
       "    .dataframe thead th {\n",
       "        text-align: right;\n",
       "    }\n",
       "</style>\n",
       "<table border=\"1\" class=\"dataframe\">\n",
       "  <thead>\n",
       "    <tr style=\"text-align: right;\">\n",
       "      <th></th>\n",
       "      <th>minute</th>\n",
       "      <th>X</th>\n",
       "      <th>Y</th>\n",
       "      <th>player</th>\n",
       "      <th>shotType</th>\n",
       "      <th>result</th>\n",
       "      <th>h_team</th>\n",
       "      <th>a_team</th>\n",
       "      <th>player_assisted</th>\n",
       "      <th>xG</th>\n",
       "    </tr>\n",
       "  </thead>\n",
       "  <tbody>\n",
       "  </tbody>\n",
       "</table>\n",
       "</div>"
      ],
      "text/plain": [
       "Empty DataFrame\n",
       "Columns: [minute, X, Y, player, shotType, result, h_team, a_team, player_assisted, xG]\n",
       "Index: []"
      ]
     },
     "execution_count": 17,
     "metadata": {},
     "output_type": "execute_result"
    }
   ],
   "source": [
    "ogf=own_goals[~own_goals['player'].isin(squad)]\n",
    "ogf"
   ]
  },
  {
   "cell_type": "code",
   "execution_count": 18,
   "id": "11457253-98c1-4a75-8dd1-1780f08e5e44",
   "metadata": {
    "scrolled": true
   },
   "outputs": [
    {
     "data": {
      "text/plain": [
       "0"
      ]
     },
     "execution_count": 18,
     "metadata": {},
     "output_type": "execute_result"
    }
   ],
   "source": [
    "own_goals_for=0\n",
    "for player in own_goals['player']:\n",
    "    if player not in squad:\n",
    "        own_goals_for+=1\n",
    "own_goals_for"
   ]
  },
  {
   "cell_type": "code",
   "execution_count": 19,
   "id": "4e66a111",
   "metadata": {},
   "outputs": [],
   "source": [
    "# THE X AND Y LABELS ARE SCALED BETWEEN 0 and 1. SINCE WE WILL BE USING OPTA AXES WHICH GO FROM 100 to 100, WE NEED TO\n",
    "# SCALE BOTH THESE UPTO 100\n",
    "\n",
    "df_understat['X'] = df_understat['X'].apply(lambda x:x*100)\n",
    "df_understat['Y'] = df_understat['Y'].apply(lambda x:x*100)\n",
    "\n",
    "#df_understat['result'].unique()"
   ]
  },
  {
   "cell_type": "code",
   "execution_count": 20,
   "id": "a0a4cef6-6a76-4735-8a8a-e6335acc9409",
   "metadata": {},
   "outputs": [
    {
     "data": {
      "text/html": [
       "<div>\n",
       "<style scoped>\n",
       "    .dataframe tbody tr th:only-of-type {\n",
       "        vertical-align: middle;\n",
       "    }\n",
       "\n",
       "    .dataframe tbody tr th {\n",
       "        vertical-align: top;\n",
       "    }\n",
       "\n",
       "    .dataframe thead th {\n",
       "        text-align: right;\n",
       "    }\n",
       "</style>\n",
       "<table border=\"1\" class=\"dataframe\">\n",
       "  <thead>\n",
       "    <tr style=\"text-align: right;\">\n",
       "      <th></th>\n",
       "      <th>minute</th>\n",
       "      <th>X</th>\n",
       "      <th>Y</th>\n",
       "      <th>player</th>\n",
       "      <th>shotType</th>\n",
       "      <th>result</th>\n",
       "      <th>h_team</th>\n",
       "      <th>a_team</th>\n",
       "      <th>player_assisted</th>\n",
       "      <th>xG</th>\n",
       "    </tr>\n",
       "  </thead>\n",
       "  <tbody>\n",
       "  </tbody>\n",
       "</table>\n",
       "</div>"
      ],
      "text/plain": [
       "Empty DataFrame\n",
       "Columns: [minute, X, Y, player, shotType, result, h_team, a_team, player_assisted, xG]\n",
       "Index: []"
      ]
     },
     "execution_count": 20,
     "metadata": {},
     "output_type": "execute_result"
    }
   ],
   "source": [
    "df_understat[df_understat['result']=='OwnGoal']"
   ]
  },
  {
   "cell_type": "code",
   "execution_count": 21,
   "id": "07880ca2",
   "metadata": {},
   "outputs": [],
   "source": [
    "#pip install mplsoccer\n",
    "#pip install highlight-text"
   ]
  },
  {
   "cell_type": "code",
   "execution_count": 22,
   "id": "04ecb57e",
   "metadata": {
    "scrolled": true
   },
   "outputs": [],
   "source": [
    "from highlight_text import ax_text,fig_text\n",
    "from mplsoccer import (VerticalPitch, Pitch)"
   ]
  },
  {
   "cell_type": "markdown",
   "id": "92166f6c",
   "metadata": {},
   "source": [
    "WE WILL CHANGE SOME OF THE BASIC PARAMETERS USING THE rcParams method OF MPL"
   ]
  },
  {
   "cell_type": "code",
   "execution_count": 24,
   "id": "161502eb",
   "metadata": {},
   "outputs": [],
   "source": [
    "background = '#D6DBD9'\n",
    "text_color = 'black'\n",
    "mpl.rcParams['xtick.color']=text_color\n",
    "mpl.rcParams['ytick.color']=text_color\n",
    "mpl.rcParams['text.color']=text_color\n",
    "mpl.rcParams['font.family']='sans-serif'\n",
    "mpl.rcParams['font.sans-serif']='Franklin Gothic Medium Cond'\n",
    "mpl.rcParams['legend.fontsize'] = 12\n"
   ]
  },
  {
   "cell_type": "code",
   "execution_count": 25,
   "id": "72ca3f5d",
   "metadata": {},
   "outputs": [],
   "source": [
    "#mpl.font_manager.FontManager.get_font_names(mpl)"
   ]
  },
  {
   "cell_type": "code",
   "execution_count": 26,
   "id": "a0f37d44",
   "metadata": {},
   "outputs": [],
   "source": [
    "import numpy as np\n",
    "from PIL import Image\n",
    "from urllib.request import urlopen\n",
    "import os\n",
    "from mplsoccer import add_image"
   ]
  },
  {
   "cell_type": "code",
   "execution_count": 27,
   "id": "c31e4c55-50f1-416b-a241-7c7ba8522133",
   "metadata": {
    "scrolled": true
   },
   "outputs": [
    {
     "data": {
      "image/png": "[encoded data removed]",
      "text/plain": [
       "<Figure size 1200x1000 with 2 Axes>"
      ]
     },
     "metadata": {},
     "output_type": "display_data"
    }
   ],
   "source": [
    "# SETTING UP THE AXES\n",
    "#fig, ax = plt.subplots(figsize=(10,12))\n",
    "#ax.axis('off')\n",
    "#fig.set_facecolor(background)\n",
    "\n",
    "#SETTING UP THE MPL AXIS FOR THE FIRST TEAM\n",
    "pitch = pitch = VerticalPitch(pad_bottom=0.5,  # pitch extends slightly below halfway line \n",
    "    half=True,  # half of a pitch\n",
    "    goal_type='box',\n",
    "    goal_alpha=0.8, \n",
    "    pitch_type='opta',\n",
    "    pitch_color='#aabb97',\n",
    "    stripe=True,\n",
    "    stripe_color='#c2d59d',\n",
    "    line_color='white')  \n",
    "\n",
    "fig, ax = pitch.draw(figsize=(12, 10))\n",
    "\n",
    "#PLOTTING HTEAM\n",
    "#df_fil = df_understat.loc[df_understat['HomeAway']=='h']\n",
    "df_fil = df_understat\n",
    "#df_hOG = df_fil[df_fil['HomeAway']=='a']\n",
    "#df_fil = df_a\n",
    "#df_hOG = df_fil[df_fil['HomeAway']=='h']\n",
    "df_h1H = df_fil[df_fil['minute']<=45]\n",
    "df_h2H = df_fil[df_fil['minute']>45]\n",
    "\n",
    "#PLOTTING SHOTS TEAM 1 PER TYPE AND HALF.LABELS APPEAR ONLY IF VARIABLE IS FILLED\n",
    "\n",
    "\n",
    "if \"ShotOnPost\" in iter(df_h1H['result']):\n",
    "    pitch.scatter(df_h1H[df_h1H['result']=='ShotOnPost']['X'],df_h1H[df_h1H['result']=='ShotOnPost']['Y'], \n",
    "              s=np.sqrt(df_h1H[df_h1H['result']=='ShotOnPost']['xG'])*150, marker='o', alpha=0.6,\n",
    "              edgecolors='black', facecolor='white', ax=ax, label=\"SHOT ON POST 1H\")\n",
    "\n",
    "if \"ShotOnPost\" in iter(df_h2H['result']):\n",
    "    pitch.scatter(df_h2H[df_h2H['result']=='ShotOnPost']['X'],df_h2H[df_h2H['result']=='ShotOnPost']['Y'], \n",
    "              s=np.sqrt(df_h2H[df_h2H['result']=='ShotOnPost']['xG'])*150, marker='o', alpha=0.6,\n",
    "              edgecolors='black', facecolor='white', ax=ax, label=\"SHOT ON POST 2H\")\n",
    "    \n",
    "if \"BlockedShot\" in iter(df_h1H['result']):\n",
    "    pitch.scatter(df_h1H[df_h1H['result']=='BlockedShot']['X'],df_h1H[df_h1H['result']=='BlockedShot']['Y'], \n",
    "              s=np.sqrt(df_h1H[df_h1H['result']=='BlockedShot']['xG'])*150, marker='o', alpha=0.6,\n",
    "              edgecolors='black', facecolor='purple', ax=ax, label=\"BLOCKED SHOT 1H\")\n",
    "\n",
    "if \"BlockedShot\" in iter(df_h2H['result']):\n",
    "    pitch.scatter(df_h2H[df_h2H['result']=='BlockedShot']['X'],df_h2H[df_h2H['result']=='BlockedShot']['Y'], \n",
    "              s=np.sqrt(df_h2H[df_h2H['result']=='BlockedShot']['xG'])*150, marker='o', alpha=0.6,\n",
    "              edgecolors='black', facecolor='yellow', ax=ax, label=\"BLOCKED SHOT 2H\")\n",
    "\n",
    "if \"MissedShots\" in iter(df_h1H['result']):\n",
    "    pitch.scatter(df_h1H[df_h1H['result']=='MissedShots']['X'],df_h1H[df_h1H['result']=='MissedShots']['Y'], \n",
    "              s=np.sqrt(df_h1H[df_h1H['result']=='MissedShots']['xG'])*150, marker='d', alpha=0.6,\n",
    "              edgecolors='black', facecolor='purple', ax=ax, label=\"MISSED SHOT 1H\")\n",
    "\n",
    "if \"MissedShots\" in iter(df_h2H['result']):\n",
    "    pitch.scatter(df_h2H[df_h2H['result']=='MissedShots']['X'],df_h2H[df_h2H['result']=='MissedShots']['Y'], \n",
    "              s=np.sqrt(df_h2H[df_h2H['result']=='MissedShots']['xG'])*150, marker='d', alpha=0.6,\n",
    "              edgecolors='black', facecolor='yellow', ax=ax, label=\"MISSED SHOT 2H\")\n",
    "    \n",
    "if \"SavedShot\" in iter(df_h1H['result']):\n",
    "    pitch.scatter(df_h1H[df_h1H['result']=='SavedShot']['X'],df_h1H[df_h1H['result']=='SavedShot']['Y'], \n",
    "              s=np.sqrt(df_h1H[df_h1H['result']=='SavedShot']['xG'])*150, marker='h', alpha=0.6,\n",
    "              edgecolors='black', facecolor='purple', ax=ax, label=\"SAVED SHOT 1H\")\n",
    "\n",
    "if \"SavedShot\" in iter(df_h2H['result']):\n",
    "    pitch.scatter(df_h2H[df_h2H['result']=='SavedShot']['X'],df_h2H[df_h2H['result']=='SavedShot']['Y'], \n",
    "              s=np.sqrt(df_h2H[df_h2H['result']=='SavedShot']['xG'])*150, marker='h', alpha=0.6,\n",
    "              edgecolors='black', facecolor='yellow', ax=ax, label=\"SAVED SHOT 2H\")\n",
    "    \n",
    "\n",
    "\n",
    "#NOW PLOTTING THE GOALS\n",
    "if \"Goal\" in iter(df_fil['result']):\n",
    "    pitch.scatter(df_fil[df_fil['result']=='Goal']['X'],df_fil[df_fil['result']=='Goal']['Y'], \n",
    "              s=np.sqrt(df_fil[df_fil['result']=='Goal']['xG'])*150, marker='football', alpha=0.9,\n",
    "              edgecolors='black', facecolor='red', ax=ax, label=\"GOAL\")\n",
    "    hull=pitch.convexhull(df_fil[df_fil['result']=='Goal']['X'], df_fil[df_fil['result']=='Goal']['Y'])\n",
    "    pitch.polygon(hull, ax=ax, edgecolor='cornflowerblue', facecolor='cornflowerblue', alpha=0.3)\n",
    "\n",
    "if \"OwnGoal\" in iter(ogf['result']):\n",
    "    pitch.scatter(100-ogf[ogf['result']=='OwnGoal']['X']*100,100-ogf[df_fil['result']=='OwnGoal']['Y']*100, \n",
    "              s=np.sqrt(ogf[ogf['result']=='OwnGoal']['xG'])*150, marker='x', alpha=0.9,\n",
    "              edgecolors='red', facecolor='red', ax=ax, label=\"OWN GOAL FOR\")\n",
    "    #hull=pitch.convexhull(df_fil[df_fil['result']=='OwnGoal']['X'], df_fil[df_fil['result']=='OwnGoal']['Y'])\n",
    "    #pitch.polygon(hull, ax=ax, edgecolor='cornflowerblue', facecolor='cornflowerblue', alpha=0.3)\n",
    "#OWNGOALS\n",
    "#if len(df_hOG) >0:\n",
    " #   pitch.scatter(df_hOG[df_hOG['result']=='Goal']['X'],df_hOG[df_hOG['result']=='Goal']['Y'], \n",
    "  #            s=np.sqrt(df_hOG[df_hOG['result']=='Goal']['xG'])*150, marker='x', alpha=0.9,\n",
    "   #           edgecolors='black', facecolor='orange', ax=ax_opta1, label='AUTOGOL DEL RIVAL')\n",
    "\n",
    "\n",
    "# ADDING THE LEGEND\n",
    "ax.legend(loc='lower center', ncol=3)#.get_texts()[0].set_color(\"black\")\n",
    "\n",
    "ax.text(25,64,'GOALS : '+str(len(df_fil[df_fil['result']=='Goal'])+ int(own_goals_for)), weight='bold', size=15)\n",
    "ax.text(25,62.5,f\"xG : {round(sum(df_fil['xG']),2)}\", weight='bold', size=15)\n",
    "ax.text(25,61,'SHOTS : '+str(len(df_fil)), weight='bold', size=15)\n",
    "ax.text(75, 61, f'{team_for_foto}\\nALL SHOTS\\nSEASON {torneo}', weight='bold', size=20)\n",
    "\n",
    "# Use a direct file path instead of urlopen for local files\n",
    "image_path = foto_path\n",
    "\n",
    "# Check if the file exists before trying to open it\n",
    "if os.path.exists(image_path):\n",
    "    image = Image.open(image_path)\n",
    "    ax_image = add_image(image, fig, left=0.07, bottom=0.245, width=0.2, height=0.2)\n",
    "else:\n",
    "    print(f\"Warning: Image file not found at {image_path}\")\n",
    "    # Optionally continue without the image\n",
    "\n",
    "\n",
    "pitch.draw(ax=ax)\n",
    "\n",
    "# ADDING A FOOTER\n",
    "ax.text(97,57,'Dataviz: Enrique Adolfo López Magallón\\nData: Understat.com.')# Comparison with <forwards>'+\n",
    " #       ' with more than '+str(no_90s)+' 90s('+str(no_90s*90)+' minutes).',\n",
    "  #      size=12, highlight_textprops=[{'color':'#EF8804'}], weight = 'bold')\n",
    "\n",
    "\n",
    "#EXPORT TO IMG\n",
    "\n",
    "plt.savefig(f'{club}_shots.png',dpi=300,facecolor=background)"
   ]
  },
  {
   "cell_type": "code",
   "execution_count": 28,
   "id": "dac7c893-fe47-4f53-a0d9-72085e8534f7",
   "metadata": {
    "scrolled": true
   },
   "outputs": [],
   "source": [
    "shots_grouped=df_fil.groupby('minute').size()"
   ]
  },
  {
   "cell_type": "code",
   "execution_count": 29,
   "id": "e0ed3013-7b9a-4441-b3dc-5f755e991113",
   "metadata": {},
   "outputs": [
    {
     "data": {
      "text/plain": [
       "minute\n",
       "2     2\n",
       "4     1\n",
       "5     1\n",
       "6     1\n",
       "7     1\n",
       "     ..\n",
       "89    2\n",
       "91    1\n",
       "92    1\n",
       "93    1\n",
       "97    2\n",
       "Length: 62, dtype: int64"
      ]
     },
     "execution_count": 29,
     "metadata": {},
     "output_type": "execute_result"
    }
   ],
   "source": [
    "shots_grouped\n"
   ]
  },
  {
   "cell_type": "code",
   "execution_count": 30,
   "id": "cf72bf4b-cb24-48d1-94d8-1e5b54634980",
   "metadata": {},
   "outputs": [
    {
     "data": {
      "text/plain": [
       "94"
      ]
     },
     "execution_count": 30,
     "metadata": {},
     "output_type": "execute_result"
    }
   ],
   "source": [
    "shots_grouped.sum()"
   ]
  },
  {
   "cell_type": "code",
   "execution_count": 31,
   "id": "5fbf9ddf-de8c-4d72-a624-da9ef9290a09",
   "metadata": {},
   "outputs": [],
   "source": [
    "from matplotlib.animation import FFMpegWriter"
   ]
  },
  {
   "cell_type": "code",
   "execution_count": 32,
   "id": "888fffe9-b84a-4847-a0a0-a2848394e4f3",
   "metadata": {},
   "outputs": [
    {
     "name": "stdout",
     "output_type": "stream",
     "text": [
      "Using CUDA acceleration for rendering\n"
     ]
    }
   ],
   "source": [
    "import subprocess\n",
    "import json\n",
    "  \n",
    "def is_cuda_available_for_ffmpeg():\n",
    "    try:\n",
    "        # Check if FFmpeg is installed with CUDA support\n",
    "        result = subprocess.run(\n",
    "            ['ffmpeg', '-hide_banner', '-encoders'],\n",
    "            capture_output=True, text=True, check=True\n",
    "           )\n",
    "        return 'h264_qsv' in result.stdout\n",
    "    except Exception:\n",
    "        return False\n",
    "   \n",
    "   # Use CUDA acceleration if available, otherwise fall back to CPU\n",
    "if is_cuda_available_for_ffmpeg():\n",
    "    codec = 'h264_qsv'\n",
    "    extra_args = ['-hwaccel', 'cuda', '-hwaccel_output_format', 'cuda', '-preset', 'fast']\n",
    "    print(\"Using CUDA acceleration for rendering\")\n",
    "else:\n",
    "    codec = 'h264'\n",
    "    extra_args = ['-preset', 'medium']\n",
    "    print(\"CUDA acceleration not available, using CPU rendering\")\n",
    "   "
   ]
  },
  {
   "cell_type": "code",
   "execution_count": 33,
   "id": "6e6267c6-57ff-4d78-a4ab-d0245d230f90",
   "metadata": {},
   "outputs": [
    {
     "data": {
      "text/plain": [
       "97"
      ]
     },
     "execution_count": 33,
     "metadata": {},
     "output_type": "execute_result"
    }
   ],
   "source": [
    "df_fil['minute'].max()"
   ]
  },
  {
   "cell_type": "code",
   "execution_count": 34,
   "id": "85b25ed9-9bad-4221-bb9f-7018cc2923f1",
   "metadata": {},
   "outputs": [
    {
     "name": "stdout",
     "output_type": "stream",
     "text": [
      "Creating animation with 2080 frames\n"
     ]
    },
    {
     "data": {
      "image/png": "[encoded data removed]",
      "text/plain": [
       "<Figure size 1200x800 with 1 Axes>"
      ]
     },
     "metadata": {},
     "output_type": "display_data"
    },
    {
     "name": "stdout",
     "output_type": "stream",
     "text": [
      "Available animation writers: ['pillow', 'ffmpeg', 'ffmpeg_file', 'html']\n",
      "Saving animation...\n",
      "Animation saved successfully!\n"
     ]
    }
   ],
   "source": [
    "import numpy as np\n",
    "import matplotlib.pyplot as plt\n",
    "import matplotlib.animation as animation\n",
    "from PIL import Image, ImageFilter, ImageEnhance\n",
    "import os\n",
    "\n",
    "# Function to prepare a background image that won't interfere with visualization\n",
    "def prepare_background_image(image_path, target_width, target_height, blur_amount=3, brightness=1.3, saturation=0.7):\n",
    "    \"\"\"\n",
    "    Prepare a background image by:\n",
    "    1. Resizing to match the target dimensions\n",
    "    2. Applying blur for subtlety\n",
    "    3. Adjusting brightness and saturation\n",
    "    \n",
    "    Parameters:\n",
    "    - image_path: Path to the background image\n",
    "    - target_width, target_height: Desired dimensions\n",
    "    - blur_amount: How much to blur (higher = more blur)\n",
    "    - brightness: Brightness factor (>1 = brighter, <1 = darker)\n",
    "    - saturation: Saturation factor (>1 = more saturated, <1 = less saturated)\n",
    "    \n",
    "    Returns:\n",
    "    - Processed image as numpy array\n",
    "    \"\"\"\n",
    "    try:\n",
    "        # Open the image\n",
    "        img = Image.open(foto_path)\n",
    "        \n",
    "        # Resize to match target dimensions\n",
    "        img = img.resize((target_width, target_height), Image.LANCZOS)\n",
    "        \n",
    "        # Apply blur for subtlety\n",
    "        img = img.filter(ImageFilter.GaussianBlur(blur_amount))\n",
    "        \n",
    "        # Adjust brightness\n",
    "        enhancer = ImageEnhance.Brightness(img)\n",
    "        img = enhancer.enhance(brightness)\n",
    "        \n",
    "        # Adjust saturation\n",
    "        enhancer = ImageEnhance.Color(img)\n",
    "        img = enhancer.enhance(saturation)\n",
    "        \n",
    "        # Convert to numpy array for matplotlib\n",
    "        return np.array(img)\n",
    "    \n",
    "    except Exception as e:\n",
    "        print(f\"Error processing background image: {e}\")\n",
    "        # Return a default subtle gradient background\n",
    "        return create_gradient_background(target_width, target_height)\n",
    "\n",
    "# Create a gradient background as fallback\n",
    "def create_gradient_background(width, height, color1=(245, 245, 250), color2=(225, 225, 240)):\n",
    "    \"\"\"Create a subtle gradient background\"\"\"\n",
    "    background = np.zeros((height, width, 3), dtype=np.uint8)\n",
    "    for y in range(height):\n",
    "        ratio = y / height\n",
    "        for c in range(3):\n",
    "            background[y, :, c] = color1[c] * (1 - ratio) + color2[c] * ratio\n",
    "    return background\n",
    "\n",
    "# Set up figure dimensions in inches and DPI for high resolution\n",
    "fig_width, fig_height = 12, 8\n",
    "dpi = 100\n",
    "\n",
    "# Calculate pixel dimensions\n",
    "pixel_width, pixel_height = int(fig_width * dpi), int(fig_height * dpi)\n",
    "\n",
    "# Prepare the background image\n",
    "background_img = prepare_background_image(\n",
    "    foto_path,  # Replace with your image path\n",
    "    pixel_width, \n",
    "    pixel_height,\n",
    "    blur_amount=5,        # Adjust blur amount (higher = more blur)\n",
    "    brightness=1.2,       # Slightly brighter\n",
    "    saturation=0.6        # Reduced saturation for subtlety\n",
    ")\n",
    "\n",
    "def update(frame):\n",
    "    ax.clear()\n",
    "    df_fil = df_understat\n",
    "    # Calculate which minute we're showing and how far along the growth we are\n",
    "    current_minute = int(frame) + 1\n",
    "    growth_fraction = frame - int(frame)  # Decimal part represents growth progress\n",
    "    \n",
    "    # Count shots per minute for all data\n",
    "    shot_counts = df_fil.groupby('minute').size()\n",
    "    minutes = list(range(0, int(max_minute) + 1))\n",
    "    \n",
    "    # Create arrays for the current state of the animation\n",
    "    current_counts = []\n",
    "    for minute in minutes:\n",
    "        if minute < current_minute:\n",
    "            # Previous minutes are fully grown\n",
    "            count = shot_counts.get(minute, 0)\n",
    "        elif minute == current_minute:\n",
    "            # Current minute is growing\n",
    "            count = shot_counts.get(minute, 0) * growth_fraction\n",
    "        else:\n",
    "            # Future minutes are not shown yet\n",
    "            count = 0\n",
    "        current_counts.append(count)\n",
    "    \n",
    "    # Calculate total shots\n",
    "    if frame >= int(max_minute):\n",
    "        total_shots = sum(shot_counts.get(min, 0) for min in range(0, max_minute + 1))\n",
    "    else:\n",
    "        total_shots = sum(shot_counts.get(min, 0) for min in range(0, current_minute))\n",
    "        if growth_fraction > 0:\n",
    "            total_shots += shot_counts.get(current_minute, 0) * growth_fraction\n",
    "    \n",
    "    # Add background image with careful alpha tuning\n",
    "    ax.imshow(background_img, aspect='auto', \n",
    "              extent=[0, max_minute + 1, 0, shot_counts.max() + 1], \n",
    "              alpha=0.15,  # Very subtle background\n",
    "              zorder=0)    # Ensure it's behind all other elements\n",
    "    \n",
    "    # Add a semi-transparent overlay to improve readability\n",
    "    ax.add_patch(plt.Rectangle((0, 0), max_minute + 1, shot_counts.max() + 1, \n",
    "                              color='white', alpha=0.3, zorder=1))\n",
    "    \n",
    "    # Create stem plot with magenta lines and orange dots (higher zorder to be on top)\n",
    "    markerline, stemlines, baseline = ax.stem(minutes, current_counts, \n",
    "                                             linefmt='m-', markerfmt='o', basefmt='k-')\n",
    "    plt.setp(markerline, markersize=8, color='orange', zorder=3)  # Orange dots\n",
    "    plt.setp(stemlines, linewidth=2, color='magenta', zorder=2)   # Magenta lines\n",
    "    plt.setp(baseline, visible=False)  # Hide baseline for cleaner look\n",
    "    \n",
    "    # Set axis limits and labels\n",
    "    ax.set_xlim(0, max_minute + 1)\n",
    "    ax.set_ylim(0, shot_counts.max() + 1)\n",
    "    ax.set_xlabel('Minutes', weight='bold', size=12)\n",
    "    ax.set_ylabel('Number of Shots', weight='bold', size=12)\n",
    "    \n",
    "    # Style the grid for better visibility over background\n",
    "    ax.grid(True, linestyle='--', alpha=0.6, color='gray', zorder=1)\n",
    "\n",
    "    # Add title and information with enhanced visibility\n",
    "    current_display_minute = current_minute if growth_fraction == 0 else f\"{current_minute-1}→{current_minute}\"\n",
    "    ax.set_title(f'{club} Shot Count per Minute (Minute: {current_display_minute})', \n",
    "                weight='bold', size=15)\n",
    "    \n",
    "    # Add text with semi-transparent background for better readability\n",
    "    text_box_props = dict(\n",
    "        boxstyle='round,pad=0.5',\n",
    "        facecolor='white',\n",
    "        alpha=0.7,\n",
    "        edgecolor='gray'\n",
    "    )\n",
    "    \n",
    "    ax.text(max_minute * 0.7, ax.get_ylim()[1] * 0.9, \n",
    "            f'Total Shots: {int(total_shots)}', \n",
    "            weight='bold', size=15, \n",
    "            bbox=text_box_props,\n",
    "            zorder=4)\n",
    "    \n",
    "    ax.text(max_minute * 0.7, ax.get_ylim()[1] * 0.1, \n",
    "            'Copyright: Enrique Adolfo López Magallón\\nData: Understat.com.',\n",
    "            bbox=text_box_props,\n",
    "            zorder=4)\n",
    "    \n",
    "    # Ensure proper layout\n",
    "    fig.tight_layout()\n",
    "    \n",
    "    # Force drawing update\n",
    "    fig.canvas.draw()\n",
    "    \n",
    "    return fig, ax\n",
    "\n",
    "# Create figure and axis with a complementary background color\n",
    "fig, ax = plt.subplots(figsize=(fig_width, fig_height), dpi=dpi, \n",
    "                      facecolor='#f8f8fa')  # Very light blue-gray background\n",
    "\n",
    "# Create animation with frames for growing each minute\n",
    "\n",
    "# First define max_minute\n",
    "max_minute = df_fil['minute'].max()\n",
    "# Define frames_per_minute before using it\n",
    "frames_per_minute = 20  # Set this to your desired value (typically same as fps)\n",
    "\n",
    "# Then use it to create l_frames\n",
    "all_frames = np.linspace(0, max_minute, int(max_minute) * frames_per_minute)\n",
    "\n",
    "fps = 20  # Based on your writer fps setting\n",
    "freeze_frames = int(7 * fps)  # 7 seconds worth of frames\n",
    "last_frame = int(max_minute)  # The last frame value\n",
    "freeze_extension = [last_frame] * freeze_frames\n",
    "all_frames = np.append(all_frames, freeze_extension)  # Note: all_frames needs to be defined before this line\n",
    "            \n",
    "print(f\"Creating animation with {len(all_frames)} frames\")\n",
    "\n",
    "ani = animation.FuncAnimation(\n",
    "    fig, \n",
    "    update, \n",
    "    frames=all_frames,\n",
    "    interval=50,  # Faster animation (50ms per frame)\n",
    "    blit=False,\n",
    "    repeat=False\n",
    ")\n",
    "\n",
    "# Show the animation\n",
    "plt.show()\n",
    "\n",
    "# The beginning part of your code remains the same\n",
    "\n",
    "# Save the animation\n",
    "available_writers = animation.writers.list()\n",
    "print(f\"Available animation writers: {available_writers}\")\n",
    "\n",
    "if 'ffmpeg' in available_writers:\n",
    "    # Configure FFmpeg with more compatible settings\n",
    "    ffmpeg_writer = animation.FFMpegWriter(  # Make sure to use animation.FFMpegWriter\n",
    "        fps=20,  # Frames per second\n",
    "        metadata=dict(artist='Enrique Adolfo Lopez Magallon'),\n",
    "        bitrate=5000,  # Higher bitrate for better quality\n",
    "        # More compatible encoding options\n",
    "        codec='h264',  # Standard H.264 encoder instead of hardware-specific one\n",
    "        extra_args=[\n",
    "            '-preset', 'medium',  # Balanced preset\n",
    "            '-crf', '23',  # Reasonable quality (lower = better quality)\n",
    "            '-pix_fmt', 'yuv420p'  # Pixel format for better compatibility\n",
    "            # Removed hardware acceleration options that were causing issues\n",
    "        ]\n",
    "    )\n",
    "\n",
    "    # Save the animation with standard settings\n",
    "    print(\"Saving animation...\")\n",
    "    ani.save(f'{club}_shots_animation_cuda.mp4', writer=ffmpeg_writer, dpi=300)\n",
    "    print(\"Animation saved successfully!\")\n",
    "elif 'pillow' in available_writers:\n",
    "    writer = animation.PillowWriter(fps=20)\n",
    "    ani.save(f'{club}_shot_counts_stem_animation.gif', writer=writer, dpi=150)\n",
    "else:\n",
    "    print(\"No suitable writer found.\")"
   ]
  },
  {
   "cell_type": "code",
   "execution_count": null,
   "id": "c6c4f47d-f707-48d7-a9f8-d50d1e194874",
   "metadata": {},
   "outputs": [],
   "source": []
  }
 ],
 "metadata": {
  "kernelspec": {
   "display_name": "Python [conda env:base] *",
   "language": "python",
   "name": "conda-base-py"
  },
  "language_info": {
   "codemirror_mode": {
    "name": "ipython",
    "version": 3
   },
   "file_extension": ".py",
   "mimetype": "text/x-python",
   "name": "python",
   "nbconvert_exporter": "python",
   "pygments_lexer": "ipython3",
   "version": "3.11.11"
  }
 },
 "nbformat": 4,
 "nbformat_minor": 5
}
